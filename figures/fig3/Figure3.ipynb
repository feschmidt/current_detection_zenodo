{
 "cells": [
  {
   "cell_type": "markdown",
   "metadata": {
    "toc": true
   },
   "source": [
    "<h1>Table of Contents<span class=\"tocSkip\"></span></h1>\n",
    "<div class=\"toc\"><ul class=\"toc-item\"></ul></div>"
   ]
  },
  {
   "cell_type": "code",
   "execution_count": 1,
   "metadata": {
    "ExecuteTime": {
     "end_time": "2019-12-15T13:41:54.725019Z",
     "start_time": "2019-12-15T13:41:54.428468Z"
    }
   },
   "outputs": [],
   "source": [
    "import glob\n",
    "import pickle\n",
    "import matplotlib.pyplot as plt\n",
    "from matplotlib import gridspec\n",
    "import numpy as np\n",
    "\n",
    "def cm2inch(*tupl):\n",
    "    inch = 2.54\n",
    "    if isinstance(tupl[0], tuple):\n",
    "        return tuple(i/inch for i in tupl[0])\n",
    "    else:\n",
    "        return tuple(i/inch for i in tupl)"
   ]
  },
  {
   "cell_type": "code",
   "execution_count": 2,
   "metadata": {},
   "outputs": [],
   "source": [
    "import seaborn as sns\n",
    "sns.set()\n",
    "sns.set_style('white')\n",
    "sns.set_style('ticks')\n",
    "plt.style.use('../my_rcparams.mplstyle')"
   ]
  },
  {
   "cell_type": "code",
   "execution_count": 3,
   "metadata": {
    "ExecuteTime": {
     "end_time": "2019-12-15T13:41:54.946245Z",
     "start_time": "2019-12-15T13:41:54.727107Z"
    }
   },
   "outputs": [
    {
     "data": {
      "text/plain": [
       "dict_keys(['xmeas', 'ymeas', 'ymeaslabel', 'xtheo', 'ytheo', 'ytheolabel', 'xtheo2', 'ytheo2', 'ytheolabel2', 'xlabel', 'ylabel'])"
      ]
     },
     "execution_count": 3,
     "metadata": {},
     "output_type": "execute_result"
    }
   ],
   "source": [
    "panelapath = glob.glob('../../data_final/fig3_panel_Is.pkl')\n",
    "panel_a = pickle.load(open(panelapath[0],'rb'))\n",
    "panel_a.keys()"
   ]
  },
  {
   "cell_type": "code",
   "execution_count": 4,
   "metadata": {
    "ExecuteTime": {
     "end_time": "2019-12-15T13:41:54.955445Z",
     "start_time": "2019-12-15T13:41:54.948411Z"
    }
   },
   "outputs": [
    {
     "data": {
      "text/plain": [
       "dict_keys(['xmeas', 'ymeas', 'ymeaslabel', 'xtheo', 'ytheo', 'ytheolabel', 'xlabel', 'ylabel'])"
      ]
     },
     "execution_count": 4,
     "metadata": {},
     "output_type": "execute_result"
    }
   ],
   "source": [
    "panelbpath = glob.glob('../../data_final/fig3_panel_df.pkl')\n",
    "panel_b = pickle.load(open(panelbpath[0],'rb'))\n",
    "panel_b.keys()"
   ]
  },
  {
   "cell_type": "code",
   "execution_count": 5,
   "metadata": {
    "ExecuteTime": {
     "end_time": "2019-12-15T13:41:55.107530Z",
     "start_time": "2019-12-15T13:41:55.099212Z"
    }
   },
   "outputs": [
    {
     "data": {
      "text/plain": [
       "dict_keys(['xmeas', 'ymeas', 'ymeaslabel', 'xtheo', 'ytheo', 'ytheolabel', 'xtheo2', 'ytheo2', 'ytheolabel2', 'xlabel', 'ylabel'])"
      ]
     },
     "execution_count": 5,
     "metadata": {},
     "output_type": "execute_result"
    }
   ],
   "source": [
    "panelcpath = glob.glob('../../data_final/fig3_panel_Ppump.pkl')\n",
    "panel_c = pickle.load(open(panelcpath[0],'rb'))\n",
    "panel_c.keys()"
   ]
  },
  {
   "cell_type": "code",
   "execution_count": 6,
   "metadata": {
    "ExecuteTime": {
     "end_time": "2019-12-15T13:41:55.442788Z",
     "start_time": "2019-12-15T13:41:55.436482Z"
    }
   },
   "outputs": [],
   "source": [
    "dpi = 1000\n",
    "figtextsize=10"
   ]
  },
  {
   "cell_type": "code",
   "execution_count": 7,
   "metadata": {
    "ExecuteTime": {
     "end_time": "2019-12-15T13:41:55.904778Z",
     "start_time": "2019-12-15T13:41:55.896800Z"
    }
   },
   "outputs": [],
   "source": [
    "import matplotlib\n",
    "cmap = matplotlib.cm.get_cmap('YlGn_r')"
   ]
  },
  {
   "cell_type": "code",
   "execution_count": 8,
   "metadata": {
    "ExecuteTime": {
     "end_time": "2019-12-15T13:41:56.473454Z",
     "start_time": "2019-12-15T13:41:56.455290Z"
    }
   },
   "outputs": [],
   "source": [
    "# we need to format the xticks if we want to display plus signs\n",
    "# taken from https://stackoverflow.com/questions/35415757/adding-sign-to-exponent-in-matplotlib-axes\n",
    "\n",
    "import matplotlib.ticker as ticker\n",
    "# this is the function the FuncFormatter will use\n",
    "def myfmt(x,pos):\n",
    "    if x <= 0:\n",
    "        # negative sign is added automatically  \n",
    "        return u\"{:.0f}\".format(x)\n",
    "    else:\n",
    "        # we need to explicitly add the positive sign\n",
    "        return u\"+{:.0f}\".format(x)\n",
    "\n",
    "# Define the formatter\n",
    "formatter = ticker.FuncFormatter(myfmt)"
   ]
  },
  {
   "cell_type": "code",
   "execution_count": 9,
   "metadata": {
    "ExecuteTime": {
     "end_time": "2019-12-15T13:44:18.354475Z",
     "start_time": "2019-12-15T13:44:17.842289Z"
    }
   },
   "outputs": [
    {
     "name": "stderr",
     "output_type": "stream",
     "text": [
      "findfont: Font family ['sans-serif'] not found. Falling back to DejaVu Sans.\n",
      "findfont: Font family ['sans-serif'] not found. Falling back to DejaVu Sans.\n"
     ]
    }
   ],
   "source": [
    "plt.style.use('../my_rcparams.mplstyle')\n",
    "\n",
    "fig = plt.figure(figsize=cm2inch(17.2,6))\n",
    "gs = gridspec.GridSpec(1, 3, wspace=0.05)\n",
    "\n",
    "axa = fig.add_subplot(gs[0,0])\n",
    "# plt.axhline(max(panel_b['ymeas']),c='grey',ls='dashed')\n",
    "plt.axhline(-55,c='grey',ls='dashed')\n",
    "plt.plot(panel_a['xmeas'],panel_a['ymeas'],'o',markerfacecolor='none',c=cmap(0.1))\n",
    "plt.plot(panel_a['xtheo2'],panel_a['ytheo2'],c=cmap(0.5))\n",
    "plt.xlabel(panel_a['xlabel'])\n",
    "plt.ylabel('Sideband amplitude (dBm)')\n",
    "plt.gca().set_ylim(bottom=-86)\n",
    "alims = plt.gca().get_ylim()\n",
    "plt.annotate(\"(b),(c)\", xy=(4, -57), xytext=(3.2, -57-7),arrowprops=dict(arrowstyle=\"->\"))\n",
    "# plt.xlim(3.8,4.2)\n",
    "# plt.ylim(-60,-50)\n",
    "\n",
    "axb = fig.add_subplot(gs[0,1])\n",
    "# plt.axhline(max(panel_b['ymeas']),c='grey',ls='dashed')\n",
    "plt.axhline(-55,c='grey',ls='dashed')\n",
    "maxm = np.argmax(panel_b['ymeas'].values)\n",
    "maxt = np.argmax(panel_b['ytheo'])\n",
    "plt.plot(panel_b['xmeas']-panel_b['xmeas'][maxm],panel_b['ymeas'],'o',markerfacecolor='none',c=cmap(0.1))\n",
    "plt.plot(panel_b['xtheo']-panel_b['xtheo'][maxt],panel_b['ytheo'],c=cmap(0.5))\n",
    "plt.xlabel(panel_b['xlabel'])\n",
    "# plt.ylabel('Sideband amplitude (dBm)')\n",
    "plt.gca().set_yticklabels([])\n",
    "plt.xticks([-1500,-750,0,750,1500])\n",
    "plt.gca().xaxis.set_major_formatter(formatter)\n",
    "plt.annotate(\"(a),(c)\", xy=(0, -57), xytext=(-300, -57-7),arrowprops=dict(arrowstyle=\"->\"))\n",
    "plt.ylim(alims)\n",
    "# plt.xlim(-100,100)\n",
    "# plt.ylim(-60,-50)\n",
    "\n",
    "axc = fig.add_subplot(gs[0,2])\n",
    "# plt.axhline(max(panel_b['ymeas']),c='grey',ls='dashed')\n",
    "plt.axhline(-55,c='grey',ls='dashed')\n",
    "plt.plot(panel_c['xmeas'],panel_c['ymeas'],'o',markerfacecolor='none',c=cmap(0.1))\n",
    "plt.plot(panel_c['xtheo'],panel_c['ytheo'],c=cmap(0.5))\n",
    "plt.xlabel(panel_c['xlabel'])\n",
    "# plt.ylabel('Sideband amplitude (dBm)')\n",
    "plt.gca().set_yticklabels([])\n",
    "plt.gca().set_ylim(bottom=-83)\n",
    "plt.annotate(\"(a),(b)\", xy=(-129, -57), xytext=(-134, -57-7),arrowprops=dict(arrowstyle=\"->\"))\n",
    "plt.ylim(alims)\n",
    "    \n",
    "axa.text(0.06,0.96, '(a)', fontsize=figtextsize, color='black', weight='bold',transform=axa.transAxes, verticalalignment = 'center', horizontalalignment = 'center')\n",
    "axb.text(0.06,0.96, '(b)', fontsize=figtextsize, color='black', weight='bold', transform=axb.transAxes, verticalalignment = 'center', horizontalalignment = 'center')\n",
    "axc.text(0.06,0.96, '(c)', fontsize=figtextsize, color='black', weight='bold', transform=axc.transAxes, verticalalignment = 'center', horizontalalignment = 'center')\n",
    "# 0.07,0.93\n",
    "\n",
    "plt.savefig('Figure3.pdf',bbox_inches='tight',dpi=dpi)\n",
    "# plt.show()\n",
    "plt.close()"
   ]
  },
  {
   "cell_type": "code",
   "execution_count": null,
   "metadata": {},
   "outputs": [],
   "source": []
  }
 ],
 "metadata": {
  "kernelspec": {
   "display_name": "Python 3",
   "language": "python",
   "name": "python3"
  },
  "language_info": {
   "codemirror_mode": {
    "name": "ipython",
    "version": 3
   },
   "file_extension": ".py",
   "mimetype": "text/x-python",
   "name": "python",
   "nbconvert_exporter": "python",
   "pygments_lexer": "ipython3",
   "version": "3.7.6"
  },
  "toc": {
   "base_numbering": 1,
   "nav_menu": {},
   "number_sections": true,
   "sideBar": true,
   "skip_h1_title": false,
   "title_cell": "Table of Contents",
   "title_sidebar": "Contents",
   "toc_cell": true,
   "toc_position": {},
   "toc_section_display": true,
   "toc_window_display": false
  }
 },
 "nbformat": 4,
 "nbformat_minor": 2
}
