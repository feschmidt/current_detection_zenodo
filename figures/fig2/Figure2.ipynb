{
 "cells": [
  {
   "cell_type": "markdown",
   "metadata": {
    "toc": true
   },
   "source": [
    "<h1>Table of Contents<span class=\"tocSkip\"></span></h1>\n",
    "<div class=\"toc\"><ul class=\"toc-item\"></ul></div>"
   ]
  },
  {
   "cell_type": "code",
   "execution_count": 1,
   "metadata": {
    "ExecuteTime": {
     "end_time": "2020-05-25T07:51:22.218548Z",
     "start_time": "2020-05-25T07:51:21.912416Z"
    }
   },
   "outputs": [],
   "source": [
    "import glob\n",
    "import pickle\n",
    "import matplotlib.pyplot as plt\n",
    "from matplotlib import gridspec\n",
    "from mpl_toolkits.axes_grid1.inset_locator import inset_axes\n",
    "\n",
    "def cm2inch(*tupl):\n",
    "    inch = 2.54\n",
    "    if isinstance(tupl[0], tuple):\n",
    "        return tuple(i/inch for i in tupl[0])\n",
    "    else:\n",
    "        return tuple(i/inch for i in tupl)"
   ]
  },
  {
   "cell_type": "code",
   "execution_count": 2,
   "metadata": {
    "ExecuteTime": {
     "end_time": "2020-05-25T07:51:22.705731Z",
     "start_time": "2020-05-25T07:51:22.220018Z"
    }
   },
   "outputs": [],
   "source": [
    "import seaborn as sns\n",
    "sns.set()\n",
    "sns.set_style('white')\n",
    "sns.set_style('ticks')\n",
    "plt.style.use('../my_rcparams.mplstyle')"
   ]
  },
  {
   "cell_type": "code",
   "execution_count": 3,
   "metadata": {
    "ExecuteTime": {
     "end_time": "2020-05-25T07:51:22.720981Z",
     "start_time": "2020-05-25T07:51:22.707713Z"
    }
   },
   "outputs": [
    {
     "data": {
      "text/plain": [
       "dict_keys(['x', 'y', 'xset', 'yset', 'xin', 'yin', 'xout', 'yout', 'xmeas', 'ymeas', 'xlim', 'ylim', 'xlabel', 'ylabel'])"
      ]
     },
     "execution_count": 3,
     "metadata": {},
     "output_type": "execute_result"
    }
   ],
   "source": [
    "panelftunepath = glob.glob('../../data_final/fig2_panel_ftune.pkl')\n",
    "panel_ftune = pickle.load(open(panelftunepath[0],'rb'))\n",
    "panel_ftune.keys()"
   ]
  },
  {
   "cell_type": "code",
   "execution_count": 4,
   "metadata": {
    "ExecuteTime": {
     "end_time": "2020-05-25T07:51:22.727829Z",
     "start_time": "2020-05-25T07:51:22.722473Z"
    }
   },
   "outputs": [
    {
     "data": {
      "text/plain": [
       "dict_keys(['x', 'y', 'w0', 'p0', 'wlf', 'plf', 'p02', 'plf2'])"
      ]
     },
     "execution_count": 4,
     "metadata": {},
     "output_type": "execute_result"
    }
   ],
   "source": [
    "panelomstylepath = glob.glob('../../data_final/fig2_panel_omstyle.pkl')\n",
    "panel_omstyle = pickle.load(open(panelomstylepath[0],'rb'))\n",
    "panel_omstyle.keys()"
   ]
  },
  {
   "cell_type": "code",
   "execution_count": 5,
   "metadata": {
    "ExecuteTime": {
     "end_time": "2020-05-25T07:51:22.736805Z",
     "start_time": "2020-05-25T07:51:22.729339Z"
    }
   },
   "outputs": [
    {
     "data": {
      "text/plain": [
       "dict_keys(['x', 'y', 'ymax', 'iset', 'ppump', 'xlabel', 'ylabel'])"
      ]
     },
     "execution_count": 5,
     "metadata": {},
     "output_type": "execute_result"
    }
   ],
   "source": [
    "panelspectrumpath = glob.glob('../../data_final/fig2_panel_spectrum.pkl')\n",
    "panel_spectrum = pickle.load(open(panelspectrumpath[0],'rb'))\n",
    "panel_spectrum.keys()"
   ]
  },
  {
   "cell_type": "code",
   "execution_count": 6,
   "metadata": {
    "ExecuteTime": {
     "end_time": "2020-05-25T07:51:22.740571Z",
     "start_time": "2020-05-25T07:51:22.738175Z"
    }
   },
   "outputs": [],
   "source": [
    "dpi = 1000\n",
    "annsz = 8\n",
    "figtextsize=10"
   ]
  },
  {
   "cell_type": "code",
   "execution_count": 7,
   "metadata": {
    "ExecuteTime": {
     "end_time": "2020-05-25T07:51:22.746087Z",
     "start_time": "2020-05-25T07:51:22.741874Z"
    }
   },
   "outputs": [],
   "source": [
    "import matplotlib\n",
    "cmap = matplotlib.cm.get_cmap('YlGn_r')"
   ]
  },
  {
   "cell_type": "code",
   "execution_count": 8,
   "metadata": {
    "ExecuteTime": {
     "end_time": "2020-05-25T07:51:22.751733Z",
     "start_time": "2020-05-25T07:51:22.748162Z"
    }
   },
   "outputs": [],
   "source": [
    "# we need to format the xticks if we want to display plus signs\n",
    "# taken from https://stackoverflow.com/questions/35415757/adding-sign-to-exponent-in-matplotlib-axes\n",
    "\n",
    "import matplotlib.ticker as ticker\n",
    "# this is the function the FuncFormatter will use\n",
    "def myfmt(x,pos):\n",
    "    if x <= 0:\n",
    "        # negative sign is added automatically  \n",
    "        return u\"{:.0f}\".format(x)\n",
    "    else:\n",
    "        # we need to explicitly add the positive sign\n",
    "        return u\"+{:.0f}\".format(x)\n",
    "\n",
    "# Define the formatter\n",
    "formatter = ticker.FuncFormatter(myfmt)"
   ]
  },
  {
   "cell_type": "code",
   "execution_count": 9,
   "metadata": {
    "ExecuteTime": {
     "end_time": "2020-05-25T07:51:42.619260Z",
     "start_time": "2020-05-25T07:51:41.394690Z"
    }
   },
   "outputs": [
    {
     "name": "stderr",
     "output_type": "stream",
     "text": [
      "findfont: Font family ['sans-serif'] not found. Falling back to DejaVu Sans.\n",
      "findfont: Font family ['sans-serif'] not found. Falling back to DejaVu Sans.\n"
     ]
    },
    {
     "data": {
      "image/png": "[encoded data removed]",
      "text/plain": [
       "<Figure size 243.78x170.079 with 3 Axes>"
      ]
     },
     "metadata": {},
     "output_type": "display_data"
    }
   ],
   "source": [
    "plt.style.use('../my_rcparams.mplstyle')\n",
    "\n",
    "fig = plt.figure(figsize=cm2inch(8.6,6),constrained_layout=True)\n",
    "gs = fig.add_gridspec(1, 2, wspace=0.4)\n",
    "\n",
    "axa = fig.add_subplot(gs[0,0])\n",
    "plt.scatter(panel_ftune['xmeas'],panel_ftune['ymeas'],edgecolors=cmap(0.1),facecolors='None')\n",
    "plt.plot(panel_ftune['x'],panel_ftune['y'],c=cmap(0.7))\n",
    "plt.plot(panel_ftune['xin'],panel_ftune['yin'],c='k',lw=1)\n",
    "plt.plot(panel_ftune['xout'],panel_ftune['yout'],c='k',lw=1)\n",
    "plt.annotate(\"\", xy=(6, -95), xytext=(8, -95), arrowprops=dict(arrowstyle=\"<->\",color='k'))\n",
    "plt.text(7-0.2,-104,r'I$_\\mathrm{LF}$')\n",
    "plt.xlabel('Bias current (µA)')\n",
    "plt.ylabel('Frequency detuning (MHz)')\n",
    "\n",
    "axinsa = inset_axes(axa, width=\"60%\", height=\"50%\", loc=3)\n",
    "plt.sca(axinsa)\n",
    "plt.plot(panel_omstyle['x'],panel_omstyle['y'],c=cmap(0.1))\n",
    "plt.plot(0,0) # no need to scale this way\n",
    "# frequency components\n",
    "plt.annotate(\"\", xy=(panel_omstyle['w0'], panel_omstyle['p0']), xytext=(panel_omstyle['w0'], -0.02),\n",
    "             arrowprops=dict(arrowstyle=\"->\",color='k'))\n",
    "plt.annotate(\"\", xy=(panel_omstyle['wlf'], panel_omstyle['plf']), xytext=(panel_omstyle['wlf'], -0.02),\n",
    "             arrowprops=dict(arrowstyle=\"->\",color='k'))\n",
    "df = panel_omstyle['wlf']#0.2\n",
    "ds = 0.3\n",
    "plt.annotate(\"\", xy=(panel_omstyle['w0']+df, panel_omstyle['p0']-ds), xytext=(panel_omstyle['w0']+df, -0.02),\n",
    "             arrowprops=dict(arrowstyle=\"->\",linestyle='dashed',ec='grey'))\n",
    "plt.annotate(\"\", xy=(panel_omstyle['w0']-df, panel_omstyle['p0']-ds), xytext=(panel_omstyle['w0']-df, -0.02),\n",
    "             arrowprops=dict(arrowstyle=\"->\",linestyle='dashed',ec='grey'))\n",
    "\n",
    "# labels for frequency components\n",
    "plt.text(panel_omstyle['w0'], panel_omstyle['p02'], '$\\omega_0$',\n",
    "         {'color': 'k', 'ha': 'center', 'va': 'center', 'fontsize':annsz})\n",
    "plt.text(panel_omstyle['wlf'], panel_omstyle['plf2'], '$\\Omega$',\n",
    "         {'color': 'k', 'ha': 'center', 'va': 'center', 'fontsize':annsz})\n",
    "# diagonal cuts in axes\n",
    "d = .05\n",
    "x0 = 0.5\n",
    "dx = 0.05\n",
    "plt.plot((x0-d,x0+d),(-d,+d),'k',lw=1) # bottom-left diagonal\n",
    "plt.plot((x0-dx-d,x0-dx+d),(-d,+d),'k',lw=1) # bottomr-right diagonal\n",
    "# axes\n",
    "plt.annotate(\"\", xy=(x0-0.025, 0), xytext=(-0.025, 0), arrowprops=dict(arrowstyle=\"-\",color='k')) # xaxis1\n",
    "plt.annotate(\"\", xy=(max(panel_omstyle['x']), 0), xytext=(x0-0.025, 0), arrowprops=dict(arrowstyle=\"->\",color='k')) # xaxis2\n",
    "plt.annotate(\"\", xy=(0, 1), xytext=(0, -.03), arrowprops=dict(arrowstyle=\"->\",color='k')) # yaxis\n",
    "axinsa.axis('off')\n",
    "\n",
    "axb = fig.add_subplot(gs[0,1])\n",
    "plt.plot(panel_spectrum['x'],panel_spectrum['y'],c=cmap(0.1))\n",
    "plt.xlabel('Frequency ($\\Delta/\\Omega$)')\n",
    "plt.ylabel('Power spectrum (dBm)')\n",
    "plt.gca().set_ylim(top=-34)\n",
    "plt.xlim(-1.5,1.5)\n",
    "plt.gca().xaxis.set_major_formatter(formatter)\n",
    "plt.text(0-.1,-39,r'$\\omega_0$')\n",
    "plt.text(-1-.4,-59,r'$\\omega_0-\\Omega$')\n",
    "plt.text(+1-.5,-59,r'$\\omega_0+\\Omega$')\n",
    "    \n",
    "axa.text(-0.34,0.96, '(a)', fontsize=figtextsize,color='black', weight='bold', transform=axa.transAxes, verticalalignment = 'center', horizontalalignment = 'center')\n",
    "axb.text(-0.3,0.96, '(b)', fontsize=figtextsize,color='black', weight='bold', transform=axb.transAxes, verticalalignment = 'center', horizontalalignment = 'center')\n",
    "\n",
    "plt.savefig('Figure2.pdf',bbox_inches='tight',dpi=dpi)\n",
    "plt.show()\n",
    "plt.close()"
   ]
  },
  {
   "cell_type": "code",
   "execution_count": 10,
   "metadata": {
    "ExecuteTime": {
     "end_time": "2020-05-25T07:51:46.294885Z",
     "start_time": "2020-05-25T07:51:46.290189Z"
    }
   },
   "outputs": [
    {
     "data": {
      "text/plain": [
       "(array([8.16326531, 8.36734694]), array([ -89.71365702, -108.37647886]))"
      ]
     },
     "execution_count": 10,
     "metadata": {},
     "output_type": "execute_result"
    }
   ],
   "source": [
    "panel_ftune['xmeas'][-2:],panel_ftune['ymeas'][-2:]"
   ]
  },
  {
   "cell_type": "code",
   "execution_count": 11,
   "metadata": {
    "ExecuteTime": {
     "end_time": "2020-05-25T07:51:46.812922Z",
     "start_time": "2020-05-25T07:51:46.808446Z"
    }
   },
   "outputs": [
    {
     "data": {
      "text/plain": [
       "array([-104.90599492, -105.87820764])"
      ]
     },
     "execution_count": 11,
     "metadata": {},
     "output_type": "execute_result"
    }
   ],
   "source": [
    "import numpy as np\n",
    "np.gradient(panel_ftune['y'],panel_ftune['x'])[-2:]"
   ]
  },
  {
   "cell_type": "code",
   "execution_count": null,
   "metadata": {},
   "outputs": [],
   "source": []
  }
 ],
 "metadata": {
  "kernelspec": {
   "display_name": "Python 3",
   "language": "python",
   "name": "python3"
  },
  "language_info": {
   "codemirror_mode": {
    "name": "ipython",
    "version": 3
   },
   "file_extension": ".py",
   "mimetype": "text/x-python",
   "name": "python",
   "nbconvert_exporter": "python",
   "pygments_lexer": "ipython3",
   "version": "3.7.6"
  },
  "toc": {
   "base_numbering": 1,
   "nav_menu": {},
   "number_sections": true,
   "sideBar": true,
   "skip_h1_title": false,
   "title_cell": "Table of Contents",
   "title_sidebar": "Contents",
   "toc_cell": true,
   "toc_position": {},
   "toc_section_display": true,
   "toc_window_display": false
  }
 },
 "nbformat": 4,
 "nbformat_minor": 2
}
