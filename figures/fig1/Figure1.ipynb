{
 "cells": [
  {
   "cell_type": "markdown",
   "metadata": {
    "toc": true
   },
   "source": [
    "<h1>Table of Contents<span class=\"tocSkip\"></span></h1>\n",
    "<div class=\"toc\"><ul class=\"toc-item\"></ul></div>"
   ]
  },
  {
   "cell_type": "code",
   "execution_count": 1,
   "metadata": {
    "ExecuteTime": {
     "end_time": "2019-12-14T17:01:56.934316Z",
     "start_time": "2019-12-14T17:01:56.399500Z"
    }
   },
   "outputs": [],
   "source": [
    "import glob\n",
    "import pickle\n",
    "import matplotlib.pyplot as plt\n",
    "from matplotlib import gridspec\n",
    "from mpl_toolkits.axes_grid1.inset_locator import inset_axes\n",
    "import numpy as np\n",
    "\n",
    "def cm2inch(*tupl):\n",
    "    inch = 2.54\n",
    "    if isinstance(tupl[0], tuple):\n",
    "        return tuple(i/inch for i in tupl[0])\n",
    "    else:\n",
    "        return tuple(i/inch for i in tupl)"
   ]
  },
  {
   "cell_type": "code",
   "execution_count": 2,
   "metadata": {},
   "outputs": [],
   "source": [
    "import seaborn as sns\n",
    "sns.set()\n",
    "sns.set_style('white')\n",
    "sns.set_style('ticks')\n",
    "plt.style.use('../my_rcparams.mplstyle')"
   ]
  },
  {
   "cell_type": "code",
   "execution_count": 3,
   "metadata": {
    "ExecuteTime": {
     "end_time": "2019-12-14T17:01:56.957657Z",
     "start_time": "2019-12-14T17:01:56.936344Z"
    }
   },
   "outputs": [],
   "source": [
    "panelcpath = glob.glob('../../data_final/fig1_panel_c.pkl')\n",
    "panel_S11 = pickle.load(open(panelcpath[0],'rb'))\n",
    "paneldpath = glob.glob('../../data_final/fig1_panel_d.pkl')\n",
    "panel_2D = pickle.load(open(paneldpath[0],'rb'))\n",
    "panelivpath = glob.glob('../../data_final/fig1_panel_iv.pkl')\n",
    "panel_iv = pickle.load(open(panelivpath[0],'rb'))"
   ]
  },
  {
   "cell_type": "code",
   "execution_count": 4,
   "metadata": {
    "ExecuteTime": {
     "end_time": "2019-12-14T17:01:56.979140Z",
     "start_time": "2019-12-14T17:01:56.971809Z"
    }
   },
   "outputs": [],
   "source": [
    "dpi = 1000\n",
    "figtextsize=10"
   ]
  },
  {
   "cell_type": "code",
   "execution_count": 5,
   "metadata": {
    "ExecuteTime": {
     "end_time": "2019-12-14T17:01:57.239069Z",
     "start_time": "2019-12-14T17:01:57.235236Z"
    }
   },
   "outputs": [],
   "source": [
    "import matplotlib\n",
    "cmap = matplotlib.cm.get_cmap('YlGn_r')"
   ]
  },
  {
   "cell_type": "code",
   "execution_count": 6,
   "metadata": {
    "ExecuteTime": {
     "end_time": "2019-12-14T17:01:57.945627Z",
     "start_time": "2019-12-14T17:01:57.530491Z"
    }
   },
   "outputs": [],
   "source": [
    "fulldev = plt.imread('temp/optical_big.svg.png')\n",
    "im_r = np.zeros(np.shape(fulldev))\n",
    "im_r[:,:,0] = fulldev[:,:,0]\n",
    "smalldev = plt.imread('temp/optical_small.svg.png')\n",
    "circuit = plt.imread('temp/rfcircuit.svg.png')"
   ]
  },
  {
   "cell_type": "code",
   "execution_count": 7,
   "metadata": {
    "ExecuteTime": {
     "end_time": "2019-12-14T17:03:18.444866Z",
     "start_time": "2019-12-14T17:03:14.959187Z"
    }
   },
   "outputs": [
    {
     "name": "stderr",
     "output_type": "stream",
     "text": [
      "findfont: Font family ['sans-serif'] not found. Falling back to DejaVu Sans.\n",
      "findfont: Font family ['sans-serif'] not found. Falling back to DejaVu Sans.\n",
      "findfont: Font family ['sans-serif'] not found. Falling back to DejaVu Sans.\n"
     ]
    }
   ],
   "source": [
    "plt.style.use('../my_rcparams.mplstyle')\n",
    "\n",
    "fig = plt.figure(figsize=cm2inch(17.6,12))\n",
    "gs = gridspec.GridSpec(2, 4, wspace=0.5,hspace=0.3)\n",
    "\n",
    "ax1 = fig.add_subplot(gs[0,:2])\n",
    "# im = ax1.imshow(fulldev[:,:,0],interpolation='none',cmap=cmap)\n",
    "im = ax1.imshow(fulldev,interpolation='none')\n",
    "# ax1.text(0.18,0.72, '$C_s$', fontsize=figtextsize, weight='normal', color='black',transform=ax1.transAxes, verticalalignment = 'center', horizontalalignment = 'center')\n",
    "# ax1.text(0.58,0.2, 'JJ', fontsize=figtextsize, weight='normal', color='black',transform=ax1.transAxes, verticalalignment = 'center', horizontalalignment = 'center')\n",
    "\n",
    "ax12 = fig.add_axes([0.15,0.25,0.3,0.3])\n",
    "im = ax12.imshow(smalldev,interpolation='none')\n",
    "for thespine in ax12.spines:\n",
    "    ax12.spines[thespine].set_linestyle((0,(5,5)))\n",
    "    ax12.spines[thespine].set_linewidth(1)\n",
    "\n",
    "ax13 = fig.add_axes([0.15,0.05,0.3,0.3])\n",
    "im = ax13.imshow(circuit,interpolation='none')\n",
    "\n",
    "for theax in [ax1,ax12,ax13]:\n",
    "    theax.axes.xaxis.set_ticks([])\n",
    "    theax.axes.yaxis.set_ticks([])\n",
    "    if theax in [ax1,ax13]:\n",
    "        theax.axis('off')\n",
    "        \n",
    "\n",
    "ax2 = fig.add_subplot(gs[0,2])\n",
    "ax2.plot(panel_iv['x1'],panel_iv['y1'],'-',label=r'$\\rightarrow$',color=cmap(0.1))\n",
    "ax2.plot(panel_iv['x2'],panel_iv['y2'],'-',label=r'$\\leftarrow$',color=cmap(0.5))\n",
    "plt.xlim(0,12)\n",
    "plt.xticks([0,4,8,12])\n",
    "plt.gca().set_ylim(top=1.2)\n",
    "ax2.set_xlabel(panel_iv['xlabel'])\n",
    "ax2.set_ylabel(panel_iv['ylabel'])\n",
    "plt.annotate(\"\", xy=(8.55, 0.3), xytext=(8.55, 0.0), \n",
    "             arrowprops=dict(arrowstyle=\"-|>, head_width=0.4, head_length=0.8\",color=cmap(0.1)))\n",
    "plt.annotate(\"\", xy=(5.95, 0.0), xytext=(5.95, 0.2), \n",
    "             arrowprops=dict(arrowstyle=\"-|>, head_width=0.4, head_length=0.8\",color=cmap(0.5)))\n",
    "plt.text(0.03, 0.98, 'DC',ha='left', va='top',transform=ax2.transAxes)\n",
    "\n",
    "ax3 = fig.add_subplot(gs[0,3])\n",
    "plt.plot(panel_S11['xmeas'],abs(panel_S11['ymeas']),'o',label=panel_S11['ymeaslabel'],\n",
    "         markerfacecolor='none',markeredgecolor=cmap(0.2))\n",
    "plt.plot(panel_S11['xtheo'],abs(panel_S11['ytheo']),label=panel_S11['ytheolabel'],c=cmap(0.9),lw=1.5)\n",
    "ax3.set_xlabel(panel_S11['xlabel'])\n",
    "ax3.set_ylabel(r'Reflection |S$_{11}$|')\n",
    "df = 3e-3\n",
    "ax3.set_xlim(panel_S11['f0']-df,panel_S11['f0']+df)\n",
    "plt.text(0.97, 0.1, 'RF',ha='right', va='top',transform=ax3.transAxes)\n",
    "\n",
    "ax4 = fig.add_subplot(gs[1,2:])\n",
    "plt.pcolormesh(panel_2D['x'],panel_2D['y'],panel_2D['z'],cmap=cmap,linewidth=0,rasterized=True)\n",
    "ax4.set_xlim(0,8.5)\n",
    "ax4.set_ylim(7.32,7.45)\n",
    "ax4.set_xlabel(panel_2D['xlabel'])\n",
    "ax4.set_ylabel(panel_2D['ylabel'])\n",
    "plt.text(0.98, 0.96, 'RF+DC',ha='right', va='top',transform=ax4.transAxes)\n",
    "\n",
    "axins4 = inset_axes(ax4, width=\"5%\", height=\"30%\", loc=3) \n",
    "cbar = plt.colorbar(cax=axins4,ticks=[0,1])\n",
    "cbar.set_label(r'|S$_{11}$|',fontsize=7)\n",
    "\n",
    "ax1.text(-0.05,0.96, '(a)', fontsize=figtextsize, weight='bold', color='black',transform=ax1.transAxes, verticalalignment = 'center', horizontalalignment = 'center')\n",
    "# ax1.text(0.11,0.1, r'200 μm', fontsize=figtextsize, weight='bold',color='black',transform=ax1.transAxes, verticalalignment = 'center', horizontalalignment = 'center')\n",
    "ax12.text(-0.05,0.96, '(b)', fontsize=figtextsize, weight='bold', color='black',transform=ax12.transAxes, verticalalignment = 'center', horizontalalignment = 'center')\n",
    "ax13.text(-0.05,0.96, '(c)', fontsize=figtextsize, weight='bold', color='black', transform=ax13.transAxes, verticalalignment = 'center', horizontalalignment = 'center', zorder=999)\n",
    "ax2.text(-0.37,0.96, '(d)', fontsize=figtextsize, weight='bold', color='black', transform=ax2.transAxes, verticalalignment = 'center', horizontalalignment = 'center')\n",
    "ax3.text(-0.35,0.96, '(e)', fontsize=figtextsize, weight='bold', color='black', transform=ax3.transAxes, verticalalignment = 'center', horizontalalignment = 'center')\n",
    "ax4.text(-0.18,1, '(f)', fontsize=figtextsize, weight='bold', color='black', transform=ax4.transAxes, verticalalignment = 'center', horizontalalignment = 'center')\n",
    "\n",
    "plt.savefig('Figure1.pdf',bbox_inches='tight',dpi=dpi)\n",
    "plt.close()"
   ]
  },
  {
   "cell_type": "code",
   "execution_count": null,
   "metadata": {},
   "outputs": [],
   "source": []
  }
 ],
 "metadata": {
  "kernelspec": {
   "display_name": "Python 3",
   "language": "python",
   "name": "python3"
  },
  "language_info": {
   "codemirror_mode": {
    "name": "ipython",
    "version": 3
   },
   "file_extension": ".py",
   "mimetype": "text/x-python",
   "name": "python",
   "nbconvert_exporter": "python",
   "pygments_lexer": "ipython3",
   "version": "3.7.6"
  },
  "toc": {
   "base_numbering": 1,
   "nav_menu": {},
   "number_sections": true,
   "sideBar": true,
   "skip_h1_title": false,
   "title_cell": "Table of Contents",
   "title_sidebar": "Contents",
   "toc_cell": true,
   "toc_position": {},
   "toc_section_display": true,
   "toc_window_display": true
  }
 },
 "nbformat": 4,
 "nbformat_minor": 2
}
