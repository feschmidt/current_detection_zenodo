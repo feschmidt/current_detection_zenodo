{
 "cells": [
  {
   "cell_type": "markdown",
   "metadata": {
    "toc": true
   },
   "source": [
    "<h1>Table of Contents<span class=\"tocSkip\"></span></h1>\n",
    "<div class=\"toc\"><ul class=\"toc-item\"></ul></div>"
   ]
  },
  {
   "cell_type": "code",
   "execution_count": 1,
   "metadata": {
    "ExecuteTime": {
     "end_time": "2020-06-28T11:55:04.331885Z",
     "start_time": "2020-06-28T11:55:03.966566Z"
    }
   },
   "outputs": [],
   "source": [
    "import glob\n",
    "import pickle\n",
    "import matplotlib.pyplot as plt\n",
    "from matplotlib import gridspec\n",
    "from mpl_toolkits.axes_grid1.inset_locator import inset_axes\n",
    "import numpy as np\n",
    "\n",
    "def cm2inch(*tupl):\n",
    "    inch = 2.54\n",
    "    if isinstance(tupl[0], tuple):\n",
    "        return tuple(i/inch for i in tupl[0])\n",
    "    else:\n",
    "        return tuple(i/inch for i in tupl)"
   ]
  },
  {
   "cell_type": "code",
   "execution_count": 2,
   "metadata": {
    "ExecuteTime": {
     "end_time": "2020-06-28T11:55:04.928609Z",
     "start_time": "2020-06-28T11:55:04.334113Z"
    }
   },
   "outputs": [],
   "source": [
    "import seaborn as sns\n",
    "sns.set()\n",
    "sns.set_style('white')\n",
    "sns.set_style('ticks')\n",
    "plt.style.use('../my_rcparams.mplstyle')"
   ]
  },
  {
   "cell_type": "code",
   "execution_count": 3,
   "metadata": {
    "ExecuteTime": {
     "end_time": "2020-06-28T11:55:04.957052Z",
     "start_time": "2020-06-28T11:55:04.931408Z"
    }
   },
   "outputs": [
    {
     "data": {
      "text/plain": [
       "dict_keys(['xmeas', 'ymeas', 'yerr', 'ytheo', 'kint', 'kext', 'temp', 'dkint', 'dkext', 'klabel', 'templabel', 'xlabel', 'ylabel'])"
      ]
     },
     "execution_count": 3,
     "metadata": {},
     "output_type": "execute_result"
    }
   ],
   "source": [
    "fullpath = glob.glob('../../data_final/SM_freq_shift_ref_full.pkl')\n",
    "full = pickle.load(open(fullpath[0],'rb'))\n",
    "full.keys()"
   ]
  },
  {
   "cell_type": "code",
   "execution_count": 4,
   "metadata": {
    "ExecuteTime": {
     "end_time": "2020-06-28T11:55:04.968557Z",
     "start_time": "2020-06-28T11:55:04.961075Z"
    }
   },
   "outputs": [
    {
     "data": {
      "text/plain": [
       "dict_keys(['xmeas', 'ymeas', 'yerr', 'ytheo', 'xlabel', 'ylabel'])"
      ]
     },
     "execution_count": 4,
     "metadata": {},
     "output_type": "execute_result"
    }
   ],
   "source": [
    "zoompath = glob.glob('../../data_final/SM_freq_shift_ref.pkl')\n",
    "zoom = pickle.load(open(zoompath[0],'rb'))\n",
    "zoom.keys()"
   ]
  },
  {
   "cell_type": "code",
   "execution_count": 5,
   "metadata": {
    "ExecuteTime": {
     "end_time": "2020-06-28T11:55:04.973542Z",
     "start_time": "2020-06-28T11:55:04.970320Z"
    }
   },
   "outputs": [],
   "source": [
    "dpi = 1000\n",
    "annsz = 8\n",
    "figtextsize=10"
   ]
  },
  {
   "cell_type": "code",
   "execution_count": 6,
   "metadata": {
    "ExecuteTime": {
     "end_time": "2020-06-28T11:55:04.980673Z",
     "start_time": "2020-06-28T11:55:04.975360Z"
    }
   },
   "outputs": [],
   "source": [
    "import matplotlib\n",
    "cmap = matplotlib.cm.get_cmap('YlGn_r')"
   ]
  },
  {
   "cell_type": "code",
   "execution_count": 9,
   "metadata": {
    "ExecuteTime": {
     "end_time": "2020-06-28T11:55:28.834950Z",
     "start_time": "2020-06-28T11:55:28.154632Z"
    }
   },
   "outputs": [
    {
     "data": {
      "image/png": "[encoded data removed]",
      "text/plain": [
       "<Figure size 498.898x170.079 with 2 Axes>"
      ]
     },
     "metadata": {},
     "output_type": "display_data"
    }
   ],
   "source": [
    "plt.style.use('../my_rcparams.mplstyle')\n",
    "\n",
    "fig = plt.figure(figsize=cm2inch(17.6,6))\n",
    "gs = gridspec.GridSpec(1, 2, wspace=0.25)\n",
    "\n",
    "axa = fig.add_subplot(gs[0,0])\n",
    "plt.errorbar(zoom['xmeas'],zoom['ymeas'],fmt='o',yerr=zoom['yerr'],c=cmap(0.1),markerfacecolor='none',zorder=-1)\n",
    "alims = plt.gca().get_xlim()\n",
    "blims = plt.gca().get_ylim()\n",
    "plt.xlabel(r'Bias current (µA)')\n",
    "plt.ylabel('Absolute frequency shift (kHz)')\n",
    "# plt.plot(full['xmeas'],(full['ytheo']-full['ytheo'][0])/1e3,c=cmap(0.9),zorder=999)\n",
    "# plt.xlim(alims)\n",
    "# plt.ylim(blims)\n",
    "\n",
    "\n",
    "axb = fig.add_subplot(gs[0,1])\n",
    "plt.axvline(0,c='grey',ls='--')\n",
    "plt.axvline(8,c='grey',ls='--')\n",
    "plt.errorbar(full['xmeas'],(full['ymeas']-full['ymeas'][0])/1e3,fmt='.',yerr=full['yerr']/1e3,\n",
    "             c=cmap(0.1),markerfacecolor='none',zorder=-9)\n",
    "plt.plot(full['xmeas'],(full['ytheo']-full['ymeas'][0])/1e3,c=cmap(0.9),zorder=-1)\n",
    "plt.xlabel(r'Bias current (µA)')\n",
    "plt.ylabel('Absolute frequency shift (kHz)')\n",
    "\n",
    "    \n",
    "axa.text(-0.13,0.98, '(a)', fontsize=figtextsize,color='black', weight='bold', transform=axa.transAxes, verticalalignment = 'center', horizontalalignment = 'center')\n",
    "axb.text(-0.16,0.98, '(b)', fontsize=figtextsize,color='black', weight='bold', transform=axb.transAxes, verticalalignment = 'center', horizontalalignment = 'center')\n",
    "\n",
    "plt.savefig('SM_frequency_shift_ref.pdf',bbox_inches='tight',dpi=dpi)\n",
    "plt.show()\n",
    "plt.close()"
   ]
  },
  {
   "cell_type": "code",
   "execution_count": null,
   "metadata": {},
   "outputs": [],
   "source": []
  }
 ],
 "metadata": {
  "kernelspec": {
   "display_name": "Python 3",
   "language": "python",
   "name": "python3"
  },
  "language_info": {
   "codemirror_mode": {
    "name": "ipython",
    "version": 3
   },
   "file_extension": ".py",
   "mimetype": "text/x-python",
   "name": "python",
   "nbconvert_exporter": "python",
   "pygments_lexer": "ipython3",
   "version": "3.7.6"
  },
  "toc": {
   "base_numbering": 1,
   "nav_menu": {},
   "number_sections": true,
   "sideBar": true,
   "skip_h1_title": false,
   "title_cell": "Table of Contents",
   "title_sidebar": "Contents",
   "toc_cell": true,
   "toc_position": {},
   "toc_section_display": true,
   "toc_window_display": false
  }
 },
 "nbformat": 4,
 "nbformat_minor": 2
}
