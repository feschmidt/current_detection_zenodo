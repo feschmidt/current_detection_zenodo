{
 "cells": [
  {
   "cell_type": "markdown",
   "metadata": {
    "toc": true
   },
   "source": [
    "<h1>Table of Contents<span class=\"tocSkip\"></span></h1>\n",
    "<div class=\"toc\"><ul class=\"toc-item\"></ul></div>"
   ]
  },
  {
   "cell_type": "code",
   "execution_count": 1,
   "metadata": {
    "ExecuteTime": {
     "end_time": "2019-12-15T16:18:41.786556Z",
     "start_time": "2019-12-15T16:18:41.386122Z"
    }
   },
   "outputs": [],
   "source": [
    "import glob\n",
    "import pickle\n",
    "import matplotlib.pyplot as plt\n",
    "from matplotlib import gridspec\n",
    "import numpy as np\n",
    "\n",
    "def cm2inch(*tupl):\n",
    "    inch = 2.54\n",
    "    if isinstance(tupl[0], tuple):\n",
    "        return tuple(i/inch for i in tupl[0])\n",
    "    else:\n",
    "        return tuple(i/inch for i in tupl)"
   ]
  },
  {
   "cell_type": "code",
   "execution_count": 2,
   "metadata": {
    "ExecuteTime": {
     "end_time": "2019-12-15T16:18:42.095738Z",
     "start_time": "2019-12-15T16:18:41.788831Z"
    }
   },
   "outputs": [
    {
     "data": {
      "text/plain": [
       "dict_keys(['xmeas', 'ymeas', 'ymeaslabel', 'xtheo', 'ytheo', 'ytheolabel', 'xtheo2', 'ytheo2', 'ytheolabel2', 'xlabel', 'ylabel'])"
      ]
     },
     "execution_count": 2,
     "metadata": {},
     "output_type": "execute_result"
    }
   ],
   "source": [
    "panelapath = glob.glob('../../data_final/fig3_panel_Ppump.pkl')\n",
    "panel_a = pickle.load(open(panelapath[0],'rb'))\n",
    "panel_a.keys()"
   ]
  },
  {
   "cell_type": "code",
   "execution_count": 3,
   "metadata": {
    "ExecuteTime": {
     "end_time": "2019-12-15T16:18:42.101593Z",
     "start_time": "2019-12-15T16:18:42.097686Z"
    }
   },
   "outputs": [
    {
     "data": {
      "text/plain": [
       "dict_keys(['xmeas', 'ymeas', 'xtheo', 'ytheo', 'xtheo2', 'ytheo2', 'xlabel', 'ylabel', 'xmin', 'ymin'])"
      ]
     },
     "execution_count": 3,
     "metadata": {},
     "output_type": "execute_result"
    }
   ],
   "source": [
    "panelbpath = glob.glob('../../data_final/fig4_panel_b_v2.pkl')\n",
    "panel_b = pickle.load(open(panelbpath[0],'rb'))\n",
    "panel_b.keys()"
   ]
  },
  {
   "cell_type": "code",
   "execution_count": 4,
   "metadata": {
    "ExecuteTime": {
     "end_time": "2019-12-15T16:18:42.174135Z",
     "start_time": "2019-12-15T16:18:42.168927Z"
    }
   },
   "outputs": [],
   "source": [
    "dpi = 1000\n",
    "figtextsize=10"
   ]
  },
  {
   "cell_type": "code",
   "execution_count": 5,
   "metadata": {
    "ExecuteTime": {
     "end_time": "2019-12-15T16:18:42.523781Z",
     "start_time": "2019-12-15T16:18:42.521088Z"
    }
   },
   "outputs": [],
   "source": [
    "import matplotlib\n",
    "cmap = matplotlib.cm.get_cmap('YlGn_r')"
   ]
  },
  {
   "cell_type": "code",
   "execution_count": 6,
   "metadata": {
    "ExecuteTime": {
     "end_time": "2019-12-15T16:19:42.371059Z",
     "start_time": "2019-12-15T16:19:41.853516Z"
    }
   },
   "outputs": [
    {
     "name": "stderr",
     "output_type": "stream",
     "text": [
      "findfont: Font family ['sans-serif'] not found. Falling back to DejaVu Sans.\n",
      "findfont: Font family ['sans-serif'] not found. Falling back to DejaVu Sans.\n"
     ]
    }
   ],
   "source": [
    "plt.style.use('../my_rcparams.mplstyle')\n",
    "\n",
    "\n",
    "fig = plt.figure(figsize=cm2inch(17.2,5.3))\n",
    "gs = gridspec.GridSpec(1,2, wspace=0.25)#, hspace=0.3, height_ratios=[2,1])\n",
    "\n",
    "axa = fig.add_subplot(gs[0,0])\n",
    "plt.plot(panel_a['xmeas'],panel_a['ymeas'],'o',markerfacecolor='none',c=cmap(0.1))\n",
    "plt.plot(panel_a['xtheo'],panel_a['ytheo'],c=cmap(0.5))\n",
    "plt.plot(panel_a['xtheo2'],panel_a['ytheo2'],c=cmap(0.5),ls='dashed')\n",
    "plt.xlabel(panel_a['xlabel'])\n",
    "plt.ylabel('Sideband amplitude (dBm)')\n",
    "plt.gca().set_ylim(bottom=-80)\n",
    "\n",
    "axb = fig.add_subplot(gs[0,1])\n",
    "plt.plot(panel_b['xmeas'],panel_b['ymeas'],'o',markerfacecolor='none',c=cmap(0.1))\n",
    "plt.plot(panel_b['xtheo'],panel_b['ytheo'],c=cmap(0.5))\n",
    "plt.plot(panel_b['xtheo2'],panel_b['ytheo2'],c=cmap(0.5),ls='dashed')\n",
    "plt.xlabel(panel_b['xlabel'])\n",
    "plt.ylabel('Sensitivity (pA/Hz$^{-1/2}$)')\n",
    "plt.yscale('log')\n",
    "plt.gca().set_ylim(top=1e3)\n",
    "\n",
    "axa.text(-0.14,1, '(a)', fontsize=figtextsize, color='black', weight='bold',transform=axa.transAxes, verticalalignment = 'center', horizontalalignment = 'center')\n",
    "axb.text(-0.15,1, '(b)', fontsize=figtextsize, color='black', weight='bold', transform=axb.transAxes, verticalalignment = 'center', horizontalalignment = 'center')\n",
    "\n",
    "plt.savefig('SM_Duffing_on_resonance.pdf',bbox_inches='tight',dpi=dpi)\n",
    "plt.close()"
   ]
  },
  {
   "cell_type": "code",
   "execution_count": 7,
   "metadata": {
    "ExecuteTime": {
     "end_time": "2019-12-05T15:50:34.846776Z",
     "start_time": "2019-12-05T15:50:34.835032Z"
    }
   },
   "outputs": [
    {
     "data": {
      "text/plain": [
       "18.72552989702382"
      ]
     },
     "execution_count": 7,
     "metadata": {},
     "output_type": "execute_result"
    }
   ],
   "source": [
    "diff = panel_a['ytheo2']-panel_a['ytheo']\n",
    "diff.max()"
   ]
  },
  {
   "cell_type": "code",
   "execution_count": 8,
   "metadata": {
    "ExecuteTime": {
     "end_time": "2019-12-05T15:50:36.921393Z",
     "start_time": "2019-12-05T15:50:36.910688Z"
    }
   },
   "outputs": [
    {
     "data": {
      "text/plain": [
       "2.789863447621574"
      ]
     },
     "execution_count": 8,
     "metadata": {},
     "output_type": "execute_result"
    }
   ],
   "source": [
    "panel_b['ytheo2'].min()"
   ]
  },
  {
   "cell_type": "code",
   "execution_count": null,
   "metadata": {},
   "outputs": [],
   "source": []
  }
 ],
 "metadata": {
  "kernelspec": {
   "display_name": "Python 3",
   "language": "python",
   "name": "python3"
  },
  "language_info": {
   "codemirror_mode": {
    "name": "ipython",
    "version": 3
   },
   "file_extension": ".py",
   "mimetype": "text/x-python",
   "name": "python",
   "nbconvert_exporter": "python",
   "pygments_lexer": "ipython3",
   "version": "3.7.6"
  },
  "toc": {
   "base_numbering": 1,
   "nav_menu": {},
   "number_sections": true,
   "sideBar": true,
   "skip_h1_title": false,
   "title_cell": "Table of Contents",
   "title_sidebar": "Contents",
   "toc_cell": true,
   "toc_position": {},
   "toc_section_display": true,
   "toc_window_display": false
  }
 },
 "nbformat": 4,
 "nbformat_minor": 2
}
