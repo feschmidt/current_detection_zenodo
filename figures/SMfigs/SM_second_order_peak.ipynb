{
 "cells": [
  {
   "cell_type": "markdown",
   "metadata": {
    "toc": true
   },
   "source": [
    "<h1>Table of Contents<span class=\"tocSkip\"></span></h1>\n",
    "<div class=\"toc\"><ul class=\"toc-item\"></ul></div>"
   ]
  },
  {
   "cell_type": "code",
   "execution_count": 1,
   "metadata": {
    "ExecuteTime": {
     "end_time": "2019-12-15T13:39:39.104194Z",
     "start_time": "2019-12-15T13:39:38.855610Z"
    }
   },
   "outputs": [],
   "source": [
    "import glob\n",
    "import pickle\n",
    "import matplotlib.pyplot as plt\n",
    "from matplotlib import gridspec\n",
    "import numpy as np\n",
    "\n",
    "def cm2inch(*tupl):\n",
    "    inch = 2.54\n",
    "    if isinstance(tupl[0], tuple):\n",
    "        return tuple(i/inch for i in tupl[0])\n",
    "    else:\n",
    "        return tuple(i/inch for i in tupl)"
   ]
  },
  {
   "cell_type": "code",
   "execution_count": 2,
   "metadata": {},
   "outputs": [],
   "source": [
    "import seaborn as sns\n",
    "sns.set()\n",
    "sns.set_style('white')\n",
    "sns.set_style('ticks')\n",
    "plt.style.use('../my_rcparams.mplstyle')"
   ]
  },
  {
   "cell_type": "code",
   "execution_count": 3,
   "metadata": {
    "ExecuteTime": {
     "end_time": "2019-12-15T13:39:39.328061Z",
     "start_time": "2019-12-15T13:39:39.145206Z"
    }
   },
   "outputs": [
    {
     "data": {
      "text/plain": [
       "dict_keys(['xmeas', 'ymeas', 'ymeaslabel', 'xtheo', 'ytheo', 'ytheolabel', 'xtheo2', 'ytheo2', 'ytheolabel2', 'xlabel', 'ylabel'])"
      ]
     },
     "execution_count": 3,
     "metadata": {},
     "output_type": "execute_result"
    }
   ],
   "source": [
    "panelapath = glob.glob('../../data_final/SM_fig3_panel_Is.pkl')\n",
    "panel_a = pickle.load(open(panelapath[0],'rb'))\n",
    "panel_a.keys()"
   ]
  },
  {
   "cell_type": "code",
   "execution_count": 4,
   "metadata": {
    "ExecuteTime": {
     "end_time": "2019-12-15T13:39:39.488191Z",
     "start_time": "2019-12-15T13:39:39.480227Z"
    }
   },
   "outputs": [
    {
     "data": {
      "text/plain": [
       "dict_keys(['xmeas', 'ymeas', 'ymeaslabel', 'xtheo', 'ytheo', 'ytheolabel', 'xlabel', 'ylabel'])"
      ]
     },
     "execution_count": 4,
     "metadata": {},
     "output_type": "execute_result"
    }
   ],
   "source": [
    "panelbpath = glob.glob('../../data_final/SM_fig3_panel_df.pkl')\n",
    "panel_b = pickle.load(open(panelbpath[0],'rb'))\n",
    "panel_b.keys()"
   ]
  },
  {
   "cell_type": "code",
   "execution_count": 5,
   "metadata": {
    "ExecuteTime": {
     "end_time": "2019-12-15T13:39:39.775444Z",
     "start_time": "2019-12-15T13:39:39.764255Z"
    }
   },
   "outputs": [
    {
     "data": {
      "text/plain": [
       "dict_keys(['xmeas', 'ymeas', 'ymeaslabel', 'xtheo', 'ytheo', 'ytheolabel', 'xtheo2', 'ytheo2', 'ytheolabel2', 'xlabel', 'ylabel'])"
      ]
     },
     "execution_count": 5,
     "metadata": {},
     "output_type": "execute_result"
    }
   ],
   "source": [
    "panelcpath = glob.glob('../../data_final/SM_fig3_panel_Ppump.pkl')\n",
    "panel_c = pickle.load(open(panelcpath[0],'rb'))\n",
    "panel_c.keys()"
   ]
  },
  {
   "cell_type": "code",
   "execution_count": 6,
   "metadata": {
    "ExecuteTime": {
     "end_time": "2019-12-15T13:39:40.065874Z",
     "start_time": "2019-12-15T13:39:40.055625Z"
    }
   },
   "outputs": [
    {
     "data": {
      "text/plain": [
       "dict_keys(['x', 'y', 'ymax', 'iset', 'ppump', 'xlabel', 'ylabel'])"
      ]
     },
     "execution_count": 6,
     "metadata": {},
     "output_type": "execute_result"
    }
   ],
   "source": [
    "panelspectrumpath = glob.glob('../../data_final/SM_spectrum_higher_order.pkl')\n",
    "panel_spectrum = pickle.load(open(panelspectrumpath[0],'rb'))\n",
    "panel_spectrum.keys()"
   ]
  },
  {
   "cell_type": "code",
   "execution_count": 7,
   "metadata": {
    "ExecuteTime": {
     "end_time": "2019-12-15T13:39:40.573269Z",
     "start_time": "2019-12-15T13:39:40.567991Z"
    }
   },
   "outputs": [],
   "source": [
    "dpi = 1000\n",
    "figtextsize=10"
   ]
  },
  {
   "cell_type": "code",
   "execution_count": 8,
   "metadata": {
    "ExecuteTime": {
     "end_time": "2019-12-15T13:39:41.006848Z",
     "start_time": "2019-12-15T13:39:41.004368Z"
    }
   },
   "outputs": [],
   "source": [
    "import matplotlib\n",
    "cmap = matplotlib.cm.get_cmap('YlGn_r')"
   ]
  },
  {
   "cell_type": "code",
   "execution_count": 9,
   "metadata": {
    "ExecuteTime": {
     "end_time": "2019-12-15T13:39:41.693458Z",
     "start_time": "2019-12-15T13:39:41.680920Z"
    }
   },
   "outputs": [],
   "source": [
    "# we need to format the xticks if we want to display plus signs\n",
    "# taken from https://stackoverflow.com/questions/35415757/adding-sign-to-exponent-in-matplotlib-axes\n",
    "\n",
    "import matplotlib.ticker as ticker\n",
    "# this is the function the FuncFormatter will use\n",
    "def myfmt(x,pos):\n",
    "    if x <= 0:\n",
    "        # negative sign is added automatically  \n",
    "        return u\"{:.0f}\".format(x)\n",
    "    else:\n",
    "        # we need to explicitly add the positive sign\n",
    "        return u\"+{:.0f}\".format(x)\n",
    "\n",
    "# Define the formatter\n",
    "formatter = ticker.FuncFormatter(myfmt)"
   ]
  },
  {
   "cell_type": "code",
   "execution_count": 10,
   "metadata": {
    "ExecuteTime": {
     "end_time": "2019-12-15T13:49:05.821699Z",
     "start_time": "2019-12-15T13:49:05.189984Z"
    }
   },
   "outputs": [
    {
     "name": "stderr",
     "output_type": "stream",
     "text": [
      "findfont: Font family ['sans-serif'] not found. Falling back to DejaVu Sans.\n",
      "findfont: Font family ['sans-serif'] not found. Falling back to DejaVu Sans.\n"
     ]
    }
   ],
   "source": [
    "plt.style.use('../my_rcparams.mplstyle')\n",
    "\n",
    "camp = -79\n",
    "ymin = -90\n",
    "ymax = -65\n",
    "\n",
    "fig = plt.figure(figsize=cm2inch(8.6,12))\n",
    "gs = gridspec.GridSpec(2, 3, wspace=0.05, hspace=0.3, height_ratios=[1,2])\n",
    "\n",
    "axa = fig.add_subplot(gs[1,0])\n",
    "plt.axhline(camp,c='grey',ls='dotted')\n",
    "plt.plot(panel_a['xmeas'],panel_a['ymeas'],'o',markerfacecolor='none',c=cmap(0.1))\n",
    "plt.plot(panel_a['xtheo2'],panel_a['ytheo2'],c=cmap(0.5))\n",
    "plt.xlabel(panel_a['xlabel'])\n",
    "plt.ylabel('Sideband amplitude (dBm)')\n",
    "plt.ylim(ymin,ymax)\n",
    "alims = plt.gca().get_ylim()\n",
    "plt.annotate(\"(b),(c)\", xy=(4, -70-7), xytext=(1.5, -70),arrowprops=dict(arrowstyle=\"->\"))\n",
    "\n",
    "axb = fig.add_subplot(gs[1,1])\n",
    "# plt.axhline(max(panel_b['ymeas']),c='grey',ls='dashed')\n",
    "plt.axhline(camp,c='grey',ls='dotted')\n",
    "maxm = np.argmax(panel_b['ymeas'].values)\n",
    "maxt = np.argmax(panel_b['ytheo'])\n",
    "plt.plot((panel_b['xmeas']-panel_b['xmeas'][maxm])/1e3,panel_b['ymeas'],'o',markerfacecolor='none',c=cmap(0.1))\n",
    "plt.plot((panel_b['xtheo']-panel_b['xtheo'][maxt])/1e3,panel_b['ytheo'],c=cmap(0.5))\n",
    "plt.xlabel('Detuning (MHz)')\n",
    "plt.gca().set_yticklabels([])\n",
    "# plt.xticks([-1500,-750,0,750,1500])\n",
    "plt.gca().xaxis.set_major_formatter(formatter)\n",
    "plt.annotate(\"(a),(c)\", xy=(0, -70-7), xytext=(-.600, -70),arrowprops=dict(arrowstyle=\"->\"))\n",
    "plt.ylim(alims)\n",
    "\n",
    "axc = fig.add_subplot(gs[1,2])\n",
    "plt.axhline(camp,c='grey',ls='dotted')\n",
    "plt.plot(panel_c['xmeas'],panel_c['ymeas'],'o',markerfacecolor='none',c=cmap(0.1))\n",
    "plt.plot(panel_c['xtheo'],panel_c['ytheo'],c=cmap(0.5))\n",
    "plt.xlabel('P$_\\mathrm{in}$ (dBm)')\n",
    "# plt.ylabel('Sideband amplitude (dBm)')\n",
    "plt.gca().set_yticklabels([])\n",
    "plt.annotate(\"(a),(b)\", xy=(-129, -70-7), xytext=(-139, -70),arrowprops=dict(arrowstyle=\"->\"))\n",
    "plt.ylim(alims)\n",
    "\n",
    "axd = fig.add_subplot(gs[0,:])\n",
    "plt.axhline(camp,c='grey',ls='dotted')\n",
    "plt.axhline(-55,c='grey',ls='dashed')\n",
    "plt.plot(panel_spectrum['x'],panel_spectrum['y'],c=cmap(0.1))\n",
    "plt.xlabel('Frequency ($\\Delta/\\Omega$)')\n",
    "plt.gca().xaxis.set_major_formatter(formatter)\n",
    "plt.ylabel('Power spectrum (dBm)')\n",
    "plt.xlim(-3.1,3.1)\n",
    "    \n",
    "axa.text(0.12,0.96, '(b)', fontsize=figtextsize, color='black', weight='bold',transform=axa.transAxes, verticalalignment = 'center', horizontalalignment = 'center')\n",
    "axb.text(0.12,0.96, '(c)', fontsize=figtextsize, color='black', weight='bold', transform=axb.transAxes, verticalalignment = 'center', horizontalalignment = 'center')\n",
    "axc.text(0.12,0.96, '(d)', fontsize=figtextsize, color='black', weight='bold', transform=axc.transAxes, verticalalignment = 'center', horizontalalignment = 'center')\n",
    "axd.text(0.04,0.9, '(a)', fontsize=figtextsize, color='black', weight='bold', transform=axd.transAxes, verticalalignment = 'center', horizontalalignment = 'center')\n",
    "\n",
    "plt.savefig('SM_second_order_peak.pdf',bbox_inches='tight',dpi=dpi)\n",
    "# plt.show()\n",
    "plt.close()"
   ]
  },
  {
   "cell_type": "code",
   "execution_count": null,
   "metadata": {},
   "outputs": [],
   "source": []
  }
 ],
 "metadata": {
  "kernelspec": {
   "display_name": "Python 3",
   "language": "python",
   "name": "python3"
  },
  "language_info": {
   "codemirror_mode": {
    "name": "ipython",
    "version": 3
   },
   "file_extension": ".py",
   "mimetype": "text/x-python",
   "name": "python",
   "nbconvert_exporter": "python",
   "pygments_lexer": "ipython3",
   "version": "3.7.6"
  },
  "toc": {
   "base_numbering": 1,
   "nav_menu": {},
   "number_sections": true,
   "sideBar": true,
   "skip_h1_title": false,
   "title_cell": "Table of Contents",
   "title_sidebar": "Contents",
   "toc_cell": true,
   "toc_position": {},
   "toc_section_display": true,
   "toc_window_display": false
  }
 },
 "nbformat": 4,
 "nbformat_minor": 2
}
