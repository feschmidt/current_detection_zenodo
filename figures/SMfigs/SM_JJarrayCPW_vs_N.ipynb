{
 "cells": [
  {
   "cell_type": "markdown",
   "metadata": {
    "toc": true
   },
   "source": [
    "<h1>Table of Contents<span class=\"tocSkip\"></span></h1>\n",
    "<div class=\"toc\"><ul class=\"toc-item\"></ul></div>"
   ]
  },
  {
   "cell_type": "code",
   "execution_count": 1,
   "metadata": {
    "ExecuteTime": {
     "end_time": "2019-12-31T10:54:20.878493Z",
     "start_time": "2019-12-31T10:54:20.490502Z"
    }
   },
   "outputs": [],
   "source": [
    "import glob\n",
    "import pickle\n",
    "import matplotlib.pyplot as plt\n",
    "from matplotlib import gridspec\n",
    "import numpy as np\n",
    "\n",
    "def cm2inch(*tupl):\n",
    "    inch = 2.54\n",
    "    if isinstance(tupl[0], tuple):\n",
    "        return tuple(i/inch for i in tupl[0])\n",
    "    else:\n",
    "        return tuple(i/inch for i in tupl)"
   ]
  },
  {
   "cell_type": "code",
   "execution_count": 2,
   "metadata": {
    "ExecuteTime": {
     "end_time": "2019-12-31T10:54:20.887686Z",
     "start_time": "2019-12-31T10:54:20.880835Z"
    }
   },
   "outputs": [
    {
     "data": {
      "text/plain": [
       "dict_keys(['N ()', 'l (m)', 'l0 (m)', 'Lambda (%)', 'Anh (Hz)'])"
      ]
     },
     "execution_count": 2,
     "metadata": {},
     "output_type": "execute_result"
    }
   ],
   "source": [
    "data = pickle.load(open('../../data_final/JJarrayCPW_pkl1.pkl','rb'))\n",
    "data.keys()"
   ]
  },
  {
   "cell_type": "code",
   "execution_count": 3,
   "metadata": {
    "ExecuteTime": {
     "end_time": "2019-12-31T10:54:20.895304Z",
     "start_time": "2019-12-31T10:54:20.889517Z"
    }
   },
   "outputs": [],
   "source": [
    "dpi = 1000\n",
    "figtextsize=10"
   ]
  },
  {
   "cell_type": "code",
   "execution_count": 4,
   "metadata": {
    "ExecuteTime": {
     "end_time": "2019-12-31T10:55:26.496408Z",
     "start_time": "2019-12-31T10:55:26.489266Z"
    }
   },
   "outputs": [],
   "source": [
    "import matplotlib\n",
    "import matplotlib.ticker as ticker\n",
    "cmap = matplotlib.cm.get_cmap('YlGn_r')"
   ]
  },
  {
   "cell_type": "code",
   "execution_count": 5,
   "metadata": {
    "ExecuteTime": {
     "end_time": "2019-12-31T10:55:28.712079Z",
     "start_time": "2019-12-31T10:55:27.649025Z"
    }
   },
   "outputs": [
    {
     "name": "stderr",
     "output_type": "stream",
     "text": [
      "findfont: Font family ['sans-serif'] not found. Falling back to DejaVu Sans.\n",
      "findfont: Font family ['sans-serif'] not found. Falling back to DejaVu Sans.\n"
     ]
    }
   ],
   "source": [
    "plt.style.use('../my_rcparams.mplstyle')\n",
    "\n",
    "\n",
    "fig = plt.figure(figsize=cm2inch(17.6,5.3))\n",
    "gs = gridspec.GridSpec(1,2, wspace=0.4)\n",
    "\n",
    "axa = fig.add_subplot(gs[0,0])\n",
    "plt.plot(data['N ()'],data['l (m)']/1e-6,'-',markerfacecolor='none',c=cmap(0.1))\n",
    "plt.xscale('log')\n",
    "plt.yscale('log')\n",
    "plt.xlabel('Number of unit cells')\n",
    "plt.ylabel('Unit cell length (µm)')\n",
    "plt.gca().yaxis.set_major_formatter(ticker.FuncFormatter(lambda y,pos: ('{{:.{:1d}f}}'.format(int(np.maximum(-np.log10(y),0)))).format(y)))\n",
    "alims = plt.gca().get_ylim()\n",
    "plt.annotate(\"\", xytext=(10, 30), xy=(80, 30), arrowprops=dict(arrowstyle=\"<-\",color=cmap(0.1),linewidth=2))\n",
    "axa2 = plt.twinx(axa)\n",
    "plt.plot(data['N ()'],data['l0 (m)']/1e-3,'--',markerfacecolor='none',c=cmap(0.5))\n",
    "plt.ylabel('Total CPW length (mm)')\n",
    "plt.annotate(\"\", xytext=(1e2, 4.5), xy=(5e2, 4.5), arrowprops=dict(arrowstyle=\"->\",color=cmap(0.5),linestyle='--',linewidth=2))\n",
    "\n",
    "axb = fig.add_subplot(gs[0,1])\n",
    "plt.plot(data['N ()'],data['Lambda (%)'],'-',markerfacecolor='none',c=cmap(0.1))\n",
    "plt.xscale('log')\n",
    "plt.xlabel('Number of unit cells')\n",
    "plt.ylabel(r'1$-\\eta_J$ (%)')\n",
    "plt.annotate(\"\", xytext=(10, 70), xy=(40, 70), arrowprops=dict(arrowstyle=\"<-\",color=cmap(0.1),linewidth=2))\n",
    "axb2 = plt.twinx(axb)\n",
    "plt.plot(data['N ()'],data['Anh (Hz)']/1e3,'--',markerfacecolor='none',c=cmap(0.5))\n",
    "plt.ylabel('Anharmonicity (kHz)')\n",
    "plt.annotate(\"\", xytext=(7e2, 4), xy=(3e3, 4), arrowprops=dict(arrowstyle=\"->\",color=cmap(0.5),linestyle='--',linewidth=2))\n",
    "\n",
    "axa.text(-0.15,1, '(a)', fontsize=figtextsize, color='black', weight='bold',transform=axa.transAxes, verticalalignment = 'center', horizontalalignment = 'center')\n",
    "axb.text(-0.15,1, '(b)', fontsize=figtextsize, color='black', weight='bold', transform=axb.transAxes, verticalalignment = 'center', horizontalalignment = 'center')\n",
    "\n",
    "plt.savefig('SM_JJarrayCPW_vs_N.pdf',bbox_inches='tight',dpi=dpi)\n",
    "plt.close()"
   ]
  },
  {
   "cell_type": "code",
   "execution_count": null,
   "metadata": {},
   "outputs": [],
   "source": []
  }
 ],
 "metadata": {
  "kernelspec": {
   "display_name": "Python 3",
   "language": "python",
   "name": "python3"
  },
  "language_info": {
   "codemirror_mode": {
    "name": "ipython",
    "version": 3
   },
   "file_extension": ".py",
   "mimetype": "text/x-python",
   "name": "python",
   "nbconvert_exporter": "python",
   "pygments_lexer": "ipython3",
   "version": "3.7.6"
  },
  "toc": {
   "base_numbering": 1,
   "nav_menu": {},
   "number_sections": true,
   "sideBar": true,
   "skip_h1_title": false,
   "title_cell": "Table of Contents",
   "title_sidebar": "Contents",
   "toc_cell": true,
   "toc_position": {},
   "toc_section_display": true,
   "toc_window_display": false
  }
 },
 "nbformat": 4,
 "nbformat_minor": 2
}
