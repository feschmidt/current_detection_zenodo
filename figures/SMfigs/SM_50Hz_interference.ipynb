{
 "cells": [
  {
   "cell_type": "markdown",
   "metadata": {
    "toc": true
   },
   "source": [
    "<h1>Table of Contents<span class=\"tocSkip\"></span></h1>\n",
    "<div class=\"toc\"><ul class=\"toc-item\"></ul></div>"
   ]
  },
  {
   "cell_type": "code",
   "execution_count": 1,
   "metadata": {
    "ExecuteTime": {
     "end_time": "2019-12-12T19:21:32.458203Z",
     "start_time": "2019-12-12T19:21:32.072865Z"
    }
   },
   "outputs": [],
   "source": [
    "import glob\n",
    "import pickle\n",
    "import matplotlib.pyplot as plt\n",
    "from matplotlib import gridspec\n",
    "from mpl_toolkits.axes_grid1.inset_locator import inset_axes\n",
    "import numpy as np\n",
    "\n",
    "def cm2inch(*tupl):\n",
    "    inch = 2.54\n",
    "    if isinstance(tupl[0], tuple):\n",
    "        return tuple(i/inch for i in tupl[0])\n",
    "    else:\n",
    "        return tuple(i/inch for i in tupl)"
   ]
  },
  {
   "cell_type": "code",
   "execution_count": 2,
   "metadata": {
    "ExecuteTime": {
     "end_time": "2019-12-12T19:21:32.467624Z",
     "start_time": "2019-12-12T19:21:32.460305Z"
    }
   },
   "outputs": [
    {
     "data": {
      "text/plain": [
       "dict_keys(['x', 'y', 'ymax', 'iset', 'ppump', 'xlabel', 'ylabel'])"
      ]
     },
     "execution_count": 2,
     "metadata": {},
     "output_type": "execute_result"
    }
   ],
   "source": [
    "specpath = glob.glob('../../data_final/SM_spectrum_50Hz.pkl')\n",
    "spec = pickle.load(open(specpath[0],'rb'))\n",
    "spec.keys()"
   ]
  },
  {
   "cell_type": "code",
   "execution_count": 3,
   "metadata": {
    "ExecuteTime": {
     "end_time": "2019-12-12T19:22:50.000282Z",
     "start_time": "2019-12-12T19:22:49.993602Z"
    }
   },
   "outputs": [
    {
     "data": {
      "text/plain": [
       "dict_keys(['xlabel', 'ylabel', 'zlabel', 'X', 'Y', 'Z', 'vmin', 'vmax'])"
      ]
     },
     "execution_count": 3,
     "metadata": {},
     "output_type": "execute_result"
    }
   ],
   "source": [
    "devpath = glob.glob('../../data_final/SM_S11_50Hz.pkl')\n",
    "dev = pickle.load(open(devpath[0],'rb'))\n",
    "dev.keys()"
   ]
  },
  {
   "cell_type": "code",
   "execution_count": 4,
   "metadata": {
    "ExecuteTime": {
     "end_time": "2019-12-12T19:21:32.486704Z",
     "start_time": "2019-12-12T19:21:32.479521Z"
    }
   },
   "outputs": [
    {
     "data": {
      "text/plain": [
       "dict_keys(['xlabel', 'ylabel', 'x1', 'x2', 'x3', 'y1', 'y2', 'y3', 'z1', 'z2', 'z3'])"
      ]
     },
     "execution_count": 4,
     "metadata": {},
     "output_type": "execute_result"
    }
   ],
   "source": [
    "lcpath = glob.glob('../../data_final/SM_S11_50Hz_linecuts.pkl')\n",
    "lc = pickle.load(open(lcpath[0],'rb'))\n",
    "lc.keys()"
   ]
  },
  {
   "cell_type": "code",
   "execution_count": 5,
   "metadata": {
    "ExecuteTime": {
     "end_time": "2019-12-12T19:21:32.491189Z",
     "start_time": "2019-12-12T19:21:32.488970Z"
    }
   },
   "outputs": [],
   "source": [
    "dpi = 1000\n",
    "annsz = 8\n",
    "figtextsize=10"
   ]
  },
  {
   "cell_type": "code",
   "execution_count": 6,
   "metadata": {
    "ExecuteTime": {
     "end_time": "2019-12-12T19:21:32.496450Z",
     "start_time": "2019-12-12T19:21:32.493131Z"
    }
   },
   "outputs": [],
   "source": [
    "import matplotlib\n",
    "cmap = matplotlib.cm.get_cmap('YlGn_r')"
   ]
  },
  {
   "cell_type": "code",
   "execution_count": 7,
   "metadata": {
    "ExecuteTime": {
     "end_time": "2019-12-12T19:22:53.642797Z",
     "start_time": "2019-12-12T19:22:51.765462Z"
    }
   },
   "outputs": [
    {
     "name": "stderr",
     "output_type": "stream",
     "text": [
      "findfont: Font family ['sans-serif'] not found. Falling back to DejaVu Sans.\n",
      "findfont: Font family ['sans-serif'] not found. Falling back to DejaVu Sans.\n",
      "findfont: Font family ['sans-serif'] not found. Falling back to DejaVu Sans.\n"
     ]
    }
   ],
   "source": [
    "plt.style.use('../my_rcparams.mplstyle')\n",
    "\n",
    "fig = plt.figure(figsize=cm2inch(17.6,10))\n",
    "gs = gridspec.GridSpec(2, 2, wspace=0.25, hspace=0.3)\n",
    "\n",
    "axa = fig.add_subplot(gs[0,:])\n",
    "plt.plot(spec['x'],spec['y'],c=cmap(0.1),lw=1)\n",
    "plt.xlabel('Frequency detuning (kHz)')\n",
    "plt.ylabel(spec['ylabel'])\n",
    "plt.xlim(-1.5,1.5)\n",
    "\n",
    "axb = fig.add_subplot(gs[1,0])\n",
    "plt.pcolormesh(dev['X'],dev['Y'],dev['Z'],cmap=cmap,vmin=dev['vmin'],vmax=dev['vmax'],linewidth=0,rasterized=True)\n",
    "plt.ylabel(dev['ylabel'])\n",
    "plt.xlabel(dev['xlabel'])\n",
    "plt.ylim(7.355,7.445)\n",
    "plt.axvline(lc['z1'],c=cmap(0.1),lw=1,ls=':')\n",
    "plt.axvline(lc['z2'],c=cmap(0.3),lw=1,ls=':')\n",
    "plt.axvline(lc['z3'],c=cmap(0.5),lw=1,ls=':')\n",
    "plt.plot(lc['z1'],[7.435],'*',c=cmap(0.1))\n",
    "plt.plot(lc['z2'],[7.435],'o',c=cmap(0.3))\n",
    "plt.plot(lc['z3'],[7.435],'^',c=cmap(0.5))\n",
    "\n",
    "axinsb = inset_axes(axb, width=\"4%\", height=\"30%\", loc=8) \n",
    "cbar = plt.colorbar(cax=axinsb,ticks=[-8,-1])\n",
    "cbar.ax.set_title(r'|S$_{11}$| (dB)',fontsize=7)\n",
    "cbar.ax.set_yticklabels(labels=[-8,-1],fontsize=7)\n",
    "\n",
    "axc = fig.add_subplot(gs[1,1])\n",
    "plt.plot(lc['x1'],lc['y1'],c=cmap(0.1),markerfacecolor='none',label=lc['z1'],lw=1)\n",
    "plt.plot(lc['x2'],lc['y2'],c=cmap(0.3),markerfacecolor='none',label=lc['z2'],lw=1)\n",
    "plt.plot(lc['x3'],lc['y3'],c=cmap(0.5),markerfacecolor='none',label=lc['z3'],lw=1)\n",
    "plt.plot([7.4255],[-10],'*',c=cmap(0.1))\n",
    "plt.plot([7.415],[-10],'o',c=cmap(0.3))\n",
    "plt.plot([7.4],[-10],'^',c=cmap(0.5))\n",
    "plt.xlabel(lc['xlabel'])\n",
    "plt.ylabel(r'|S$_{11}$| (dB)')\n",
    "# plt.legend()\n",
    "    \n",
    "axa.text(0.03,0.9, '(a)', fontsize=figtextsize,color='black', weight='bold', transform=axa.transAxes, verticalalignment = 'center', horizontalalignment = 'center')\n",
    "axb.text(0.06,0.9, '(b)', fontsize=figtextsize,color='black', weight='bold', transform=axb.transAxes, verticalalignment = 'center', horizontalalignment = 'center')\n",
    "axc.text(0.06,0.9, '(c)', fontsize=figtextsize,color='black', weight='bold', transform=axc.transAxes, verticalalignment = 'center', horizontalalignment = 'center')\n",
    "\n",
    "plt.savefig('SM_50Hz_interference.pdf',bbox_inches='tight',dpi=dpi)\n",
    "plt.close()"
   ]
  },
  {
   "cell_type": "code",
   "execution_count": null,
   "metadata": {},
   "outputs": [],
   "source": []
  }
 ],
 "metadata": {
  "kernelspec": {
   "display_name": "Python 3",
   "language": "python",
   "name": "python3"
  },
  "language_info": {
   "codemirror_mode": {
    "name": "ipython",
    "version": 3
   },
   "file_extension": ".py",
   "mimetype": "text/x-python",
   "name": "python",
   "nbconvert_exporter": "python",
   "pygments_lexer": "ipython3",
   "version": "3.7.6"
  },
  "toc": {
   "base_numbering": 1,
   "nav_menu": {},
   "number_sections": true,
   "sideBar": true,
   "skip_h1_title": false,
   "title_cell": "Table of Contents",
   "title_sidebar": "Contents",
   "toc_cell": true,
   "toc_position": {},
   "toc_section_display": true,
   "toc_window_display": false
  }
 },
 "nbformat": 4,
 "nbformat_minor": 2
}
