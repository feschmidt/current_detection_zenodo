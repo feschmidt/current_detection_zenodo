{
 "cells": [
  {
   "cell_type": "markdown",
   "metadata": {
    "toc": true
   },
   "source": [
    "<h1>Table of Contents<span class=\"tocSkip\"></span></h1>\n",
    "<div class=\"toc\"><ul class=\"toc-item\"></ul></div>"
   ]
  },
  {
   "cell_type": "code",
   "execution_count": 1,
   "metadata": {
    "ExecuteTime": {
     "end_time": "2020-06-28T11:58:15.748039Z",
     "start_time": "2020-06-28T11:58:15.325870Z"
    }
   },
   "outputs": [],
   "source": [
    "import glob\n",
    "import pickle\n",
    "import matplotlib.pyplot as plt\n",
    "from matplotlib import gridspec\n",
    "import numpy as np\n",
    "\n",
    "def cm2inch(*tupl):\n",
    "    inch = 2.54\n",
    "    if isinstance(tupl[0], tuple):\n",
    "        return tuple(i/inch for i in tupl[0])\n",
    "    else:\n",
    "        return tuple(i/inch for i in tupl)"
   ]
  },
  {
   "cell_type": "code",
   "execution_count": 2,
   "metadata": {
    "ExecuteTime": {
     "end_time": "2020-06-28T11:58:16.479568Z",
     "start_time": "2020-06-28T11:58:15.750378Z"
    }
   },
   "outputs": [],
   "source": [
    "import seaborn as sns\n",
    "sns.set()\n",
    "sns.set_style('white')\n",
    "sns.set_style('ticks')\n",
    "plt.style.use('../my_rcparams.mplstyle')"
   ]
  },
  {
   "cell_type": "code",
   "execution_count": 3,
   "metadata": {
    "ExecuteTime": {
     "end_time": "2020-06-28T11:58:16.496301Z",
     "start_time": "2020-06-28T11:58:16.482576Z"
    }
   },
   "outputs": [
    {
     "data": {
      "text/plain": [
       "dict_keys(['xmeas', 'ymeas', 'xtheo0', 'ytheo0', 'shift0', 'xtheo1', 'ytheo1', 'shift1', 'xlabel', 'ylabel'])"
      ]
     },
     "execution_count": 3,
     "metadata": {},
     "output_type": "execute_result"
    }
   ],
   "source": [
    "mypath = glob.glob('../../data_final/SM_pin_detuning.pkl')\n",
    "panel_a = pickle.load(open(mypath[0],'rb'))\n",
    "panel_a.keys()"
   ]
  },
  {
   "cell_type": "code",
   "execution_count": 4,
   "metadata": {
    "ExecuteTime": {
     "end_time": "2020-06-28T11:58:16.501313Z",
     "start_time": "2020-06-28T11:58:16.498456Z"
    }
   },
   "outputs": [],
   "source": [
    "dpi = 1000\n",
    "figtextsize=10"
   ]
  },
  {
   "cell_type": "code",
   "execution_count": 5,
   "metadata": {
    "ExecuteTime": {
     "end_time": "2020-06-28T11:58:16.507733Z",
     "start_time": "2020-06-28T11:58:16.503475Z"
    }
   },
   "outputs": [],
   "source": [
    "import matplotlib\n",
    "cmap = matplotlib.cm.get_cmap('YlGn_r')"
   ]
  },
  {
   "cell_type": "code",
   "execution_count": 6,
   "metadata": {
    "ExecuteTime": {
     "end_time": "2020-06-28T11:58:17.593711Z",
     "start_time": "2020-06-28T11:58:16.509714Z"
    }
   },
   "outputs": [
    {
     "name": "stderr",
     "output_type": "stream",
     "text": [
      "findfont: Font family ['sans-serif'] not found. Falling back to DejaVu Sans.\n"
     ]
    },
    {
     "data": {
      "image/png": "[encoded data removed]",
      "text/plain": [
       "<Figure size 243.78x150.236 with 1 Axes>"
      ]
     },
     "metadata": {},
     "output_type": "display_data"
    }
   ],
   "source": [
    "plt.style.use('../my_rcparams.mplstyle')\n",
    "\n",
    "fig = plt.figure(figsize=cm2inch(8.6, 5.3))\n",
    "gs = gridspec.GridSpec(1, 1)\n",
    "\n",
    "axa = fig.add_subplot(gs[0, 0])\n",
    "plt.plot(panel_a['xmeas'],\n",
    "         panel_a['ymeas'],\n",
    "         'o',\n",
    "         markerfacecolor='none',\n",
    "         c=cmap(0.1),\n",
    "         zorder=-1)\n",
    "plt.plot(panel_a['xtheo0'], panel_a['ytheo0'], c=cmap(0.5), zorder=-1)\n",
    "plt.plot(panel_a['xtheo1'],\n",
    "         panel_a['ytheo1'],\n",
    "         c=cmap(0.5),\n",
    "         ls='dashed',\n",
    "         zorder=-1)\n",
    "plt.xlabel(panel_a['xlabel'])\n",
    "plt.ylabel('Sensitivity (pA/Hz$^{-1/2}$)')\n",
    "plt.yscale('log')\n",
    "plt.gca().set_ylim(top=1e3)\n",
    "plt.gca().set_xlim(right=-105)\n",
    "\n",
    "plt.savefig('SM_Pin_detuning.pdf', bbox_inches='tight', dpi=dpi)\n",
    "plt.show()\n",
    "plt.close()"
   ]
  },
  {
   "cell_type": "code",
   "execution_count": null,
   "metadata": {},
   "outputs": [],
   "source": []
  }
 ],
 "metadata": {
  "kernelspec": {
   "display_name": "Python 3",
   "language": "python",
   "name": "python3"
  },
  "language_info": {
   "codemirror_mode": {
    "name": "ipython",
    "version": 3
   },
   "file_extension": ".py",
   "mimetype": "text/x-python",
   "name": "python",
   "nbconvert_exporter": "python",
   "pygments_lexer": "ipython3",
   "version": "3.7.6"
  },
  "toc": {
   "base_numbering": 1,
   "nav_menu": {},
   "number_sections": true,
   "sideBar": true,
   "skip_h1_title": false,
   "title_cell": "Table of Contents",
   "title_sidebar": "Contents",
   "toc_cell": true,
   "toc_position": {},
   "toc_section_display": true,
   "toc_window_display": false
  }
 },
 "nbformat": 4,
 "nbformat_minor": 2
}
