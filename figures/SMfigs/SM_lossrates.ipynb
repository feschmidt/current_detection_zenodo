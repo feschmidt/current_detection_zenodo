{
 "cells": [
  {
   "cell_type": "markdown",
   "metadata": {
    "toc": true
   },
   "source": [
    "<h1>Table of Contents<span class=\"tocSkip\"></span></h1>\n",
    "<div class=\"toc\"><ul class=\"toc-item\"></ul></div>"
   ]
  },
  {
   "cell_type": "code",
   "execution_count": 1,
   "metadata": {
    "ExecuteTime": {
     "end_time": "2020-06-28T11:57:38.881103Z",
     "start_time": "2020-06-28T11:57:38.462731Z"
    }
   },
   "outputs": [],
   "source": [
    "import glob\n",
    "import pickle\n",
    "import matplotlib.pyplot as plt\n",
    "from matplotlib import gridspec\n",
    "from mpl_toolkits.axes_grid1.inset_locator import inset_axes\n",
    "import numpy as np\n",
    "\n",
    "def cm2inch(*tupl):\n",
    "    inch = 2.54\n",
    "    if isinstance(tupl[0], tuple):\n",
    "        return tuple(i/inch for i in tupl[0])\n",
    "    else:\n",
    "        return tuple(i/inch for i in tupl)"
   ]
  },
  {
   "cell_type": "code",
   "execution_count": 2,
   "metadata": {
    "ExecuteTime": {
     "end_time": "2020-06-28T11:57:39.573084Z",
     "start_time": "2020-06-28T11:57:38.883381Z"
    }
   },
   "outputs": [],
   "source": [
    "import seaborn as sns\n",
    "sns.set()\n",
    "sns.set_style('white')\n",
    "sns.set_style('ticks')\n",
    "plt.style.use('../my_rcparams.mplstyle')"
   ]
  },
  {
   "cell_type": "code",
   "execution_count": 3,
   "metadata": {
    "ExecuteTime": {
     "end_time": "2020-06-28T11:57:39.582753Z",
     "start_time": "2020-06-28T11:57:39.575748Z"
    }
   },
   "outputs": [
    {
     "data": {
      "text/plain": [
       "dict_keys(['xmeas', 'ymeas', 'yerr', 'ytheo', 'kint', 'kext', 'temp', 'dkint', 'dkext', 'klabel', 'templabel', 'xlabel', 'ylabel'])"
      ]
     },
     "execution_count": 3,
     "metadata": {},
     "output_type": "execute_result"
    }
   ],
   "source": [
    "refpath = glob.glob('../../data_final/SM_freq_shift_ref_full.pkl')\n",
    "ref = pickle.load(open(refpath[0],'rb'))\n",
    "ref.keys()"
   ]
  },
  {
   "cell_type": "code",
   "execution_count": 4,
   "metadata": {
    "ExecuteTime": {
     "end_time": "2020-06-28T11:57:39.611806Z",
     "start_time": "2020-06-28T11:57:39.585278Z"
    }
   },
   "outputs": [
    {
     "data": {
      "text/plain": [
       "dict_keys(['xmeas', 'ki', 'kitheo', 'ke', 'ketheo', 'dke', 'dki', 'ylabel', 'xlabel'])"
      ]
     },
     "execution_count": 4,
     "metadata": {},
     "output_type": "execute_result"
    }
   ],
   "source": [
    "devpath = glob.glob('../../data_final/SM_lossrate_expfit.pkl')\n",
    "dev = pickle.load(open(devpath[0],'rb'))\n",
    "dev.keys()"
   ]
  },
  {
   "cell_type": "code",
   "execution_count": 5,
   "metadata": {
    "ExecuteTime": {
     "end_time": "2020-06-28T11:57:39.618753Z",
     "start_time": "2020-06-28T11:57:39.614990Z"
    }
   },
   "outputs": [],
   "source": [
    "dpi = 1000\n",
    "annsz = 8\n",
    "figtextsize=10"
   ]
  },
  {
   "cell_type": "code",
   "execution_count": 6,
   "metadata": {
    "ExecuteTime": {
     "end_time": "2020-06-28T11:57:39.623986Z",
     "start_time": "2020-06-28T11:57:39.620570Z"
    }
   },
   "outputs": [],
   "source": [
    "import matplotlib\n",
    "cmap = matplotlib.cm.get_cmap('YlGn_r')"
   ]
  },
  {
   "cell_type": "code",
   "execution_count": 7,
   "metadata": {
    "ExecuteTime": {
     "end_time": "2020-06-28T11:57:40.630944Z",
     "start_time": "2020-06-28T11:57:39.626104Z"
    }
   },
   "outputs": [
    {
     "name": "stderr",
     "output_type": "stream",
     "text": [
      "findfont: Font family ['sans-serif'] not found. Falling back to DejaVu Sans.\n",
      "findfont: Font family ['sans-serif'] not found. Falling back to DejaVu Sans.\n"
     ]
    },
    {
     "data": {
      "image/png": "[encoded data removed]",
      "text/plain": [
       "<Figure size 498.898x170.079 with 3 Axes>"
      ]
     },
     "metadata": {},
     "output_type": "display_data"
    }
   ],
   "source": [
    "plt.style.use('../my_rcparams.mplstyle')\n",
    "\n",
    "fig = plt.figure(figsize=cm2inch(17.6, 6))\n",
    "gs = gridspec.GridSpec(1, 3, wspace=0.4)\n",
    "\n",
    "axa = fig.add_subplot(gs[0, 0])\n",
    "# plt.errorbar(dev['xmeas'],dev['ki']/1e3,yerr=dev['dki']/1e3,fmt='none',c=cmap(0.1),markerfacecolor='none',label=r'$\\kappa_i$',lw=1)\n",
    "# plt.errorbar(dev['xmeas'],dev['ke']/1e3,yerr=dev['dke']/1e3,fmt='none',c=cmap(0.5),markerfacecolor='none',label=r'$\\kappa_e$',lw=1)\n",
    "plt.plot(dev['xmeas'],\n",
    "         dev['ki'] / 1e3,\n",
    "         'o',\n",
    "         c=cmap(0.1),\n",
    "         markerfacecolor='none',\n",
    "         label=r'$\\kappa_i$',\n",
    "         zorder=-1)\n",
    "plt.plot(dev['xmeas'], dev['kitheo'] / 1e3, c=cmap(0.9))\n",
    "plt.plot(dev['xmeas'],\n",
    "         dev['ke'] / 1e3,\n",
    "         's',\n",
    "         c=cmap(0.5),\n",
    "         markerfacecolor='none',\n",
    "         label=r'$\\kappa_e$',\n",
    "         zorder=-1)\n",
    "plt.plot(dev['xmeas'], dev['ketheo'] / 1e3, c=cmap(0.9))\n",
    "plt.xlabel(r'Bias current (µA)')\n",
    "plt.ylabel('Loss rates (MHz)')\n",
    "\n",
    "axb = fig.add_subplot(gs[0, 1])\n",
    "# plt.errorbar(ref['xmeas'],ref['kint'],yerr=ref['dkint'],fmt='o',c=cmap(0.1),markerfacecolor='none',label=r'$\\kappa_i$',lw=1)\n",
    "# plt.errorbar(ref['xmeas'],ref['kext'],yerr=ref['dkext'],fmt='s',c=cmap(0.5),markerfacecolor='none',label=r'$\\kappa_e$',lw=1)\n",
    "plt.plot(ref['xmeas'],\n",
    "         ref['kint'],\n",
    "         'o',\n",
    "         c=cmap(0.1),\n",
    "         markerfacecolor='none',\n",
    "         label=r'$\\kappa_i$',\n",
    "         zorder=-1)\n",
    "plt.plot(ref['xmeas'],\n",
    "         ref['kext'],\n",
    "         's',\n",
    "         c=cmap(0.5),\n",
    "         markerfacecolor='none',\n",
    "         label=r'$\\kappa_e$',\n",
    "         zorder=-1)\n",
    "plt.xlabel(r'Bias current (µA)')\n",
    "plt.ylabel('Loss rates (kHz)')\n",
    "\n",
    "axc = fig.add_subplot(gs[0, 2])\n",
    "plt.plot(ref['xmeas'],\n",
    "         ref['temp'],\n",
    "         'o',\n",
    "         c=cmap(0.1),\n",
    "         markerfacecolor='none',\n",
    "         zorder=-1)\n",
    "plt.xlabel(r'Bias current (µA)')\n",
    "plt.ylabel('Temperature (mK)')\n",
    "\n",
    "axa.text(-0.24,\n",
    "         0.96,\n",
    "         '(a)',\n",
    "         fontsize=figtextsize,\n",
    "         color='black',\n",
    "         weight='bold',\n",
    "         transform=axa.transAxes,\n",
    "         verticalalignment='center',\n",
    "         horizontalalignment='center')\n",
    "axb.text(-0.24,\n",
    "         0.96,\n",
    "         '(b)',\n",
    "         fontsize=figtextsize,\n",
    "         color='black',\n",
    "         weight='bold',\n",
    "         transform=axb.transAxes,\n",
    "         verticalalignment='center',\n",
    "         horizontalalignment='center')\n",
    "axc.text(-0.2,\n",
    "         0.96,\n",
    "         '(c)',\n",
    "         fontsize=figtextsize,\n",
    "         color='black',\n",
    "         weight='bold',\n",
    "         transform=axc.transAxes,\n",
    "         verticalalignment='center',\n",
    "         horizontalalignment='center')\n",
    "\n",
    "plt.savefig('SM_lossrates.pdf', bbox_inches='tight', dpi=dpi)\n",
    "plt.show()\n",
    "plt.close()"
   ]
  },
  {
   "cell_type": "code",
   "execution_count": null,
   "metadata": {},
   "outputs": [],
   "source": []
  }
 ],
 "metadata": {
  "kernelspec": {
   "display_name": "Python 3",
   "language": "python",
   "name": "python3"
  },
  "language_info": {
   "codemirror_mode": {
    "name": "ipython",
    "version": 3
   },
   "file_extension": ".py",
   "mimetype": "text/x-python",
   "name": "python",
   "nbconvert_exporter": "python",
   "pygments_lexer": "ipython3",
   "version": "3.7.6"
  },
  "toc": {
   "base_numbering": 1,
   "nav_menu": {},
   "number_sections": true,
   "sideBar": true,
   "skip_h1_title": false,
   "title_cell": "Table of Contents",
   "title_sidebar": "Contents",
   "toc_cell": true,
   "toc_position": {},
   "toc_section_display": true,
   "toc_window_display": false
  }
 },
 "nbformat": 4,
 "nbformat_minor": 2
}
