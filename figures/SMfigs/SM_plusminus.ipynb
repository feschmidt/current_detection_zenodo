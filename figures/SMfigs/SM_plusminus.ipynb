{
 "cells": [
  {
   "cell_type": "markdown",
   "metadata": {
    "toc": true
   },
   "source": [
    "<h1>Table of Contents<span class=\"tocSkip\"></span></h1>\n",
    "<div class=\"toc\"><ul class=\"toc-item\"></ul></div>"
   ]
  },
  {
   "cell_type": "code",
   "execution_count": 1,
   "metadata": {
    "ExecuteTime": {
     "end_time": "2019-12-20T09:29:57.160994Z",
     "start_time": "2019-12-20T09:29:56.696142Z"
    }
   },
   "outputs": [],
   "source": [
    "import glob\n",
    "import pickle\n",
    "import matplotlib.pyplot as plt\n",
    "from matplotlib import gridspec\n",
    "from mpl_toolkits.axes_grid1.inset_locator import inset_axes\n",
    "import numpy as np\n",
    "import copy\n",
    "import pandas as pd\n",
    "\n",
    "def cm2inch(*tupl):\n",
    "    inch = 2.54\n",
    "    if isinstance(tupl[0], tuple):\n",
    "        return tuple(i/inch for i in tupl[0])\n",
    "    else:\n",
    "        return tuple(i/inch for i in tupl)"
   ]
  },
  {
   "cell_type": "code",
   "execution_count": 2,
   "metadata": {
    "ExecuteTime": {
     "end_time": "2019-12-20T09:29:57.172569Z",
     "start_time": "2019-12-20T09:29:57.163051Z"
    }
   },
   "outputs": [],
   "source": [
    "panelapath = glob.glob('../../data_final/SM_panel_fig4_int_m1.pkl')\n",
    "panel_a = pickle.load(open(panelapath[0],'rb'))\n",
    "panelbpath = glob.glob('../../data_final/SM_panel_fig4_int_p1.pkl')\n",
    "panel_b = pickle.load(open(panelbpath[0],'rb'))\n",
    "panelcpath = glob.glob('../../data_final/SM_panel_fig4_power.pkl')\n",
    "panel_c = pickle.load(open(panelcpath[0],'rb'))\n",
    "paneldpath = glob.glob('../../data_final/SM_panel_fig4_current.pkl')\n",
    "panel_d = pickle.load(open(paneldpath[0],'rb'))"
   ]
  },
  {
   "cell_type": "code",
   "execution_count": 3,
   "metadata": {
    "ExecuteTime": {
     "end_time": "2019-12-20T09:31:01.054598Z",
     "start_time": "2019-12-20T09:31:01.051927Z"
    }
   },
   "outputs": [],
   "source": [
    "dpi = 1000\n",
    "figtextsize=10\n",
    "linewidth=3"
   ]
  },
  {
   "cell_type": "code",
   "execution_count": 4,
   "metadata": {
    "ExecuteTime": {
     "end_time": "2019-12-20T09:29:57.186472Z",
     "start_time": "2019-12-20T09:29:57.182051Z"
    }
   },
   "outputs": [],
   "source": [
    "import matplotlib\n",
    "import matplotlib.ticker as ticker\n",
    "import matplotlib.colors as colors\n",
    "cmap = matplotlib.cm.get_cmap('YlGn_r')"
   ]
  },
  {
   "cell_type": "code",
   "execution_count": 5,
   "metadata": {
    "ExecuteTime": {
     "end_time": "2019-12-20T09:33:30.774111Z",
     "start_time": "2019-12-20T09:33:27.976909Z"
    }
   },
   "outputs": [
    {
     "name": "stderr",
     "output_type": "stream",
     "text": [
      "/opt/conda/lib/python3.7/site-packages/matplotlib/colors.py:1110: RuntimeWarning: invalid value encountered in less_equal\n",
      "  mask |= resdat <= 0\n",
      "findfont: Font family ['sans-serif'] not found. Falling back to DejaVu Sans.\n",
      "findfont: Font family ['sans-serif'] not found. Falling back to DejaVu Sans.\n",
      "findfont: Font family ['sans-serif'] not found. Falling back to DejaVu Sans.\n",
      "findfont: Font family ['sans-serif'] not found. Falling back to DejaVu Sans.\n"
     ]
    }
   ],
   "source": [
    "plt.style.use('../my_rcparams.mplstyle')\n",
    "\n",
    "# parameters for 2D plots:\n",
    "minP,maxP=-152,-108\n",
    "minI,maxI=-0.5,8\n",
    "# min and max values for colorscale\n",
    "# lineparameters\n",
    "vmin = 10\n",
    "vmax = 100\n",
    "levels = [20,50,1e2,1e3]\n",
    "levc = 'k'\n",
    "levalp=1\n",
    "levst = 'dashed'\n",
    "levlw = .2\n",
    "levft = 8\n",
    "\n",
    "fig=plt.figure(figsize=cm2inch(17.2,8))\n",
    "gs = fig.add_gridspec(2, 4, wspace=0.06, hspace=0.1, width_ratios=[1,0.25,1,1])\n",
    "\n",
    "# MEASUREMENT 2D\n",
    "axa = fig.add_subplot(gs[0,0])\n",
    "# plot actual 2D data\n",
    "pcm1 = plt.pcolormesh(panel_a['x'],panel_a['y'],panel_a['z'],\n",
    "               cmap=cmap,linewidth=0,rasterized=True,norm=colors.LogNorm(vmin=vmin, vmax=vmax))\n",
    "# plot contour lines\n",
    "cs1 = plt.contour(panel_a['x'],panel_a['y'],panel_a['z'],colors=levc,alpha=levalp,linestyles=levst,levels=levels,\n",
    "                  linewidths=levlw)\n",
    "cs1.levels = ['%.0f'%val for val in cs1.levels] # Recast levels to new class\n",
    "manual_locations = [(7,-110),(5,-105),(3,-110),(2,-145)]\n",
    "axa.clabel(cs1, cs1.levels, inline=True, fontsize=levft, manual=manual_locations) # label contours\n",
    "# plot linecut indicators, excluding the area of minimum sensitivity indicated by circle\n",
    "plt.plot([panel_a['xmin'],panel_a['xmin']],[-150,-116],c='grey',ls='--',alpha=0.5,lw=1)\n",
    "plt.plot([panel_a['xmin'],panel_a['xmin']],[-112,-100],c='grey',ls='--',alpha=0.5,lw=1)\n",
    "plt.plot([0,7],[panel_a['ymin'],panel_a['ymin']],c='grey',ls='--',alpha=0.5,lw=1)\n",
    "plt.plot([7.6,8],[panel_a['ymin'],panel_a['ymin']],c='grey',ls='--',alpha=0.5,lw=1)\n",
    "plt.plot(panel_a['xmin'],panel_a['ymin'],'o',markersize=5,markerfacecolor='none',markeredgecolor=cmap(0.7))\n",
    "axa.set_xticklabels([])\n",
    "plt.ylabel(panel_a['ylabel'])\n",
    "plt.xlim(0,7.7)\n",
    "plt.ylim(-150,-100)\n",
    "\n",
    "# THEORY 2D\n",
    "axb = fig.add_subplot(gs[1,0])\n",
    "pcm2 = plt.pcolormesh(panel_b['x'],panel_b['y'],panel_b['z'],\n",
    "               cmap=cmap,linewidth=0,rasterized=True,norm=colors.LogNorm(vmin=vmin, vmax=vmax))\n",
    "cs2 = plt.contour(panel_b['x'],panel_b['y'],panel_b['z'],colors=levc,alpha=levalp,linestyles=levst,levels=levels,\n",
    "                  linewidths=levlw)\n",
    "cs2.levels = ['%.0f'%val for val in cs2.levels] # Recast levels to new class\n",
    "axb.clabel(cs2, cs2.levels, inline=True, fontsize=levft, manual=manual_locations) # label contours\n",
    "# plot linecut indicators, excluding the area of minimum sensitivity indicated by circle\n",
    "plt.plot([panel_a['xmin'],panel_a['xmin']],[-150,-116],c='grey',ls='--',alpha=0.5,lw=1)\n",
    "plt.plot([panel_a['xmin'],panel_a['xmin']],[-112,-100],c='grey',ls='--',alpha=0.5,lw=1)\n",
    "plt.plot([0,7],[panel_a['ymin'],panel_a['ymin']],c='grey',ls='--',alpha=0.5,lw=1)\n",
    "plt.plot([7.6,8],[panel_a['ymin'],panel_a['ymin']],c='grey',ls='--',alpha=0.5,lw=1)\n",
    "plt.plot(panel_a['xmin'],panel_a['ymin'],'o',markersize=5,markerfacecolor='none',markeredgecolor=cmap(0.7))\n",
    "plt.xlabel(panel_b['xlabel'])\n",
    "plt.ylabel(panel_b['ylabel'])\n",
    "plt.xlim(0,7.7)\n",
    "plt.ylim(-150,-100)\n",
    "\n",
    "# BEST LINECUT VS POWER\n",
    "axc = fig.add_subplot(gs[:,2])\n",
    "plt.plot(panel_c['xm'],panel_c['ym'],'.',markerfacecolor='none',c=cmap(0.1),label='$-\\Omega$')\n",
    "plt.plot(panel_c['xp'],panel_c['yp'],'*',markerfacecolor='none',c=cmap(0.5),label='$+\\Omega$')\n",
    "plt.xlabel('Power at sample (dBm)')\n",
    "plt.ylabel(r'Current sensitivity (pA/Hz$^{-1/2}$)',labelpad=-1)\n",
    "plt.yscale('log')\n",
    "plt.gca().set_ylim(top=1e3)\n",
    "plt.xticks(np.arange(-150,-100+1,10))\n",
    "plt.xlim(minP,maxP)\n",
    "plt.gca().yaxis.set_major_formatter(ticker.FuncFormatter(lambda y,pos: ('{{:.{:1d}f}}'.format(int(np.maximum(-np.log10(y),0)))).format(y)))\n",
    "alims = plt.gca().get_ylim()\n",
    "plt.legend(loc='lower left')\n",
    "\n",
    "# BEST LINECUT VS CURRENT\n",
    "axd = fig.add_subplot(gs[:,3])\n",
    "plt.plot(panel_d['xm'],panel_d['ym'],'.',markerfacecolor='none',c=cmap(0.1),label='$-\\Omega$')\n",
    "plt.plot(panel_d['xp'],panel_d['yp'],'*',markerfacecolor='none',c=cmap(0.5),label='$+\\Omega$')\n",
    "plt.xlabel(panel_d['xlabel'])\n",
    "plt.xlim(minI,maxI)\n",
    "plt.yscale('log')\n",
    "plt.ylim(alims)\n",
    "plt.gca().set_yticklabels([])\n",
    "plt.legend(loc='lower left')\n",
    "\n",
    "axinsA = inset_axes(axa, width=\"5%\", height=\"30%\", loc=3) \n",
    "cbarA = plt.colorbar(pcm1,cax=axinsA)\n",
    "\n",
    "axinsB = inset_axes(axb, width=\"5%\", height=\"30%\", loc=3) \n",
    "cbarB = plt.colorbar(pcm2,cax=axinsB)\n",
    "\n",
    "for cbar in [cbarA,cbarB]:\n",
    "    cbar.minorticks_off()\n",
    "    cbar.set_ticks([10,100])\n",
    "    cbar.ax.tick_params(pad=1)\n",
    "    cbar.ax.set_yticklabels([10,100],fontsize=7)\n",
    "\n",
    "\n",
    "axa.text(0.07,0.92, '(a)', color='black', fontsize=figtextsize, weight='bold',transform=axa.transAxes, verticalalignment = 'center', horizontalalignment = 'center')\n",
    "axb.text(0.07,0.92, '(b)', color='black', fontsize=figtextsize, weight='bold', transform=axb.transAxes, verticalalignment = 'center', horizontalalignment = 'center')\n",
    "axc.text(0.93,0.96, '(c)', color='black', fontsize=figtextsize, weight='bold', transform=axc.transAxes, verticalalignment = 'center', horizontalalignment = 'center')\n",
    "axd.text(0.93,0.96, '(d)', color='black', fontsize=figtextsize, weight='bold', transform=axd.transAxes, verticalalignment = 'center', horizontalalignment = 'center')\n",
    "\n",
    "axa.text(0.86,0.1, '$-\\Omega$', fontsize=14, color='black', weight='bold',transform=axa.transAxes, verticalalignment = 'center', horizontalalignment = 'center')\n",
    "axb.text(0.86,0.1, '$+\\Omega$', fontsize=14, color='black', weight='bold', transform=axb.transAxes, verticalalignment = 'center', horizontalalignment = 'center')\n",
    "\n",
    "plt.savefig('SM_plusminus.pdf',bbox_inches='tight',dpi=dpi)\n",
    "plt.close()"
   ]
  },
  {
   "cell_type": "code",
   "execution_count": 6,
   "metadata": {
    "ExecuteTime": {
     "end_time": "2019-12-20T09:30:00.150166Z",
     "start_time": "2019-12-20T09:30:00.133464Z"
    }
   },
   "outputs": [
    {
     "data": {
      "text/plain": [
       "(8.901255382724944, 9.517265775086448)"
      ]
     },
     "execution_count": 6,
     "metadata": {},
     "output_type": "execute_result"
    }
   ],
   "source": [
    "np.nanmin(panel_a['z']), np.nanmin(panel_b['z'])"
   ]
  },
  {
   "cell_type": "code",
   "execution_count": null,
   "metadata": {},
   "outputs": [],
   "source": []
  }
 ],
 "metadata": {
  "kernelspec": {
   "display_name": "Python 3",
   "language": "python",
   "name": "python3"
  },
  "language_info": {
   "codemirror_mode": {
    "name": "ipython",
    "version": 3
   },
   "file_extension": ".py",
   "mimetype": "text/x-python",
   "name": "python",
   "nbconvert_exporter": "python",
   "pygments_lexer": "ipython3",
   "version": "3.7.6"
  },
  "toc": {
   "base_numbering": 1,
   "nav_menu": {},
   "number_sections": true,
   "sideBar": true,
   "skip_h1_title": false,
   "title_cell": "Table of Contents",
   "title_sidebar": "Contents",
   "toc_cell": true,
   "toc_position": {},
   "toc_section_display": true,
   "toc_window_display": false
  }
 },
 "nbformat": 4,
 "nbformat_minor": 2
}
