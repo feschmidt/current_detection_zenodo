{
 "cells": [
  {
   "cell_type": "markdown",
   "metadata": {
    "toc": true
   },
   "source": [
    "<h1>Table of Contents<span class=\"tocSkip\"></span></h1>\n",
    "<div class=\"toc\"><ul class=\"toc-item\"></ul></div>"
   ]
  },
  {
   "cell_type": "code",
   "execution_count": 1,
   "metadata": {
    "ExecuteTime": {
     "end_time": "2020-06-28T11:56:24.281668Z",
     "start_time": "2020-06-28T11:56:23.959859Z"
    }
   },
   "outputs": [],
   "source": [
    "import glob\n",
    "import pickle\n",
    "import matplotlib.pyplot as plt\n",
    "from matplotlib import gridspec\n",
    "import numpy as np\n",
    "\n",
    "def cm2inch(*tupl):\n",
    "    inch = 2.54\n",
    "    if isinstance(tupl[0], tuple):\n",
    "        return tuple(i/inch for i in tupl[0])\n",
    "    else:\n",
    "        return tuple(i/inch for i in tupl)"
   ]
  },
  {
   "cell_type": "code",
   "execution_count": 2,
   "metadata": {
    "ExecuteTime": {
     "end_time": "2020-06-28T11:56:24.957342Z",
     "start_time": "2020-06-28T11:56:24.283830Z"
    }
   },
   "outputs": [],
   "source": [
    "import seaborn as sns\n",
    "sns.set()\n",
    "sns.set_style('white')\n",
    "sns.set_style('ticks')\n",
    "plt.style.use('../my_rcparams.mplstyle')"
   ]
  },
  {
   "cell_type": "code",
   "execution_count": 3,
   "metadata": {
    "ExecuteTime": {
     "end_time": "2020-06-28T11:56:24.992833Z",
     "start_time": "2020-06-28T11:56:24.960176Z"
    }
   },
   "outputs": [
    {
     "data": {
      "text/plain": [
       "dict_keys(['l', 'N', 'I', 'Anh', 'f0'])"
      ]
     },
     "execution_count": 3,
     "metadata": {},
     "output_type": "execute_result"
    }
   ],
   "source": [
    "data = pickle.load(open('../../data_final/JJarrayCPW_pkl2.pkl','rb'))\n",
    "data.keys()"
   ]
  },
  {
   "cell_type": "code",
   "execution_count": 4,
   "metadata": {
    "ExecuteTime": {
     "end_time": "2020-06-28T11:56:24.998718Z",
     "start_time": "2020-06-28T11:56:24.996043Z"
    }
   },
   "outputs": [],
   "source": [
    "dpi = 1000\n",
    "figtextsize=10"
   ]
  },
  {
   "cell_type": "code",
   "execution_count": 5,
   "metadata": {
    "ExecuteTime": {
     "end_time": "2020-06-28T11:56:25.007325Z",
     "start_time": "2020-06-28T11:56:25.000780Z"
    }
   },
   "outputs": [],
   "source": [
    "import matplotlib\n",
    "cmap = matplotlib.cm.get_cmap('YlGn_r')"
   ]
  },
  {
   "cell_type": "code",
   "execution_count": 6,
   "metadata": {
    "ExecuteTime": {
     "end_time": "2020-06-28T11:56:25.569044Z",
     "start_time": "2020-06-28T11:56:25.009384Z"
    }
   },
   "outputs": [
    {
     "name": "stderr",
     "output_type": "stream",
     "text": [
      "findfont: Font family ['sans-serif'] not found. Falling back to DejaVu Sans.\n"
     ]
    },
    {
     "data": {
      "image/png": "[encoded data removed]",
      "text/plain": [
       "<Figure size 498.898x150.236 with 2 Axes>"
      ]
     },
     "metadata": {},
     "output_type": "display_data"
    }
   ],
   "source": [
    "plt.style.use('../my_rcparams.mplstyle')\n",
    "\n",
    "\n",
    "fig = plt.figure(figsize=cm2inch(17.6,5.3))\n",
    "gs = gridspec.GridSpec(1,2, wspace=0.4)\n",
    "\n",
    "axa = fig.add_subplot(gs[0,0])\n",
    "plt.plot(data['I']/1e-6,data['f0']/1e9,'-',markerfacecolor='none',c=cmap(0.1),zorder=-1)\n",
    "plt.xlabel('Bias current (µA)')\n",
    "plt.ylabel('Resonance frequency (GHz)')\n",
    "plt.annotate(\"\", xytext=(0, 7), xy=(2, 7), arrowprops=dict(arrowstyle=\"<-\",color=cmap(0.1),linewidth=2),zorder=-1)\n",
    "axa2 = plt.twinx(axa)\n",
    "plt.plot(data['I']/1e-6,data['Anh']/1e3,'--',markerfacecolor='none',c=cmap(0.5),zorder=-1)\n",
    "plt.ylabel('Anharmonicity (kHz)')\n",
    "plt.annotate(\"\", xytext=(6, 2.65), xy=(8, 2.65), arrowprops=dict(arrowstyle=\"->\",color=cmap(0.5),linestyle='--',linewidth=2))\n",
    "\n",
    "plt.savefig('SM_JJarrayCPW_vs_I.pdf',bbox_inches='tight',dpi=dpi)\n",
    "plt.show()\n",
    "plt.close()"
   ]
  },
  {
   "cell_type": "code",
   "execution_count": null,
   "metadata": {},
   "outputs": [],
   "source": []
  }
 ],
 "metadata": {
  "kernelspec": {
   "display_name": "Python 3",
   "language": "python",
   "name": "python3"
  },
  "language_info": {
   "codemirror_mode": {
    "name": "ipython",
    "version": 3
   },
   "file_extension": ".py",
   "mimetype": "text/x-python",
   "name": "python",
   "nbconvert_exporter": "python",
   "pygments_lexer": "ipython3",
   "version": "3.7.6"
  },
  "toc": {
   "base_numbering": 1,
   "nav_menu": {},
   "number_sections": true,
   "sideBar": true,
   "skip_h1_title": false,
   "title_cell": "Table of Contents",
   "title_sidebar": "Contents",
   "toc_cell": true,
   "toc_position": {},
   "toc_section_display": true,
   "toc_window_display": false
  }
 },
 "nbformat": 4,
 "nbformat_minor": 2
}
