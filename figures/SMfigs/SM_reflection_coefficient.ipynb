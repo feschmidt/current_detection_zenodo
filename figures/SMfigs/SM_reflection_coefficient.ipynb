{
 "cells": [
  {
   "cell_type": "markdown",
   "metadata": {
    "toc": true
   },
   "source": [
    "<h1>Table of Contents<span class=\"tocSkip\"></span></h1>\n",
    "<div class=\"toc\"><ul class=\"toc-item\"></ul></div>"
   ]
  },
  {
   "cell_type": "code",
   "execution_count": 1,
   "metadata": {
    "ExecuteTime": {
     "end_time": "2020-05-15T17:27:23.749589Z",
     "start_time": "2020-05-15T17:27:23.464646Z"
    }
   },
   "outputs": [],
   "source": [
    "import glob\n",
    "import pickle\n",
    "import matplotlib.pyplot as plt\n",
    "from matplotlib import gridspec\n",
    "from mpl_toolkits.axes_grid1.inset_locator import inset_axes\n",
    "import numpy as np\n",
    "\n",
    "def cm2inch(*tupl):\n",
    "    inch = 2.54\n",
    "    if isinstance(tupl[0], tuple):\n",
    "        return tuple(i/inch for i in tupl[0])\n",
    "    else:\n",
    "        return tuple(i/inch for i in tupl)"
   ]
  },
  {
   "cell_type": "code",
   "execution_count": 2,
   "metadata": {},
   "outputs": [],
   "source": [
    "import seaborn as sns\n",
    "sns.set()\n",
    "sns.set_style('white')\n",
    "sns.set_style('ticks')\n",
    "plt.style.use('../my_rcparams.mplstyle')"
   ]
  },
  {
   "cell_type": "code",
   "execution_count": 3,
   "metadata": {
    "ExecuteTime": {
     "end_time": "2020-05-15T17:27:24.213055Z",
     "start_time": "2020-05-15T17:27:23.751162Z"
    }
   },
   "outputs": [],
   "source": [
    "import seaborn as sns\n",
    "sns.set()\n",
    "sns.set_style('white')\n",
    "sns.set_style('ticks')\n",
    "plt.style.use('../my_rcparams.mplstyle')"
   ]
  },
  {
   "cell_type": "code",
   "execution_count": 4,
   "metadata": {
    "ExecuteTime": {
     "end_time": "2020-05-15T17:27:24.220905Z",
     "start_time": "2020-05-15T17:27:24.214789Z"
    }
   },
   "outputs": [
    {
     "data": {
      "text/plain": [
       "dict_keys(['xmeas', 'ymeas', 'ymeaslabel', 'f0', 'xtheo', 'ytheo', 'ytheolabel', 'xraw', 'yraw', 'xraw_th', 'yraw_th', 'xlabel', 'ylabel'])"
      ]
     },
     "execution_count": 4,
     "metadata": {},
     "output_type": "execute_result"
    }
   ],
   "source": [
    "panelS11path = glob.glob('../../data_final/fig1_panel_c.pkl')\n",
    "panel_S11 = pickle.load(open(panelS11path[0],'rb'))\n",
    "panel_S11.keys()"
   ]
  },
  {
   "cell_type": "code",
   "execution_count": 5,
   "metadata": {
    "ExecuteTime": {
     "end_time": "2020-05-15T17:27:24.225161Z",
     "start_time": "2020-05-15T17:27:24.222584Z"
    }
   },
   "outputs": [],
   "source": [
    "dpi = 1000\n",
    "annsz = 8\n",
    "figtextsize=10"
   ]
  },
  {
   "cell_type": "code",
   "execution_count": 6,
   "metadata": {
    "ExecuteTime": {
     "end_time": "2020-05-15T17:27:24.230957Z",
     "start_time": "2020-05-15T17:27:24.227727Z"
    }
   },
   "outputs": [],
   "source": [
    "import matplotlib\n",
    "cmap = matplotlib.cm.get_cmap('YlGn_r')"
   ]
  },
  {
   "cell_type": "code",
   "execution_count": 7,
   "metadata": {
    "ExecuteTime": {
     "end_time": "2020-05-15T17:27:25.365090Z",
     "start_time": "2020-05-15T17:27:24.232407Z"
    }
   },
   "outputs": [
    {
     "name": "stderr",
     "output_type": "stream",
     "text": [
      "findfont: Font family ['sans-serif'] not found. Falling back to DejaVu Sans.\n",
      "findfont: Font family ['sans-serif'] not found. Falling back to DejaVu Sans.\n"
     ]
    }
   ],
   "source": [
    "plt.style.use('../my_rcparams.mplstyle')\n",
    "\n",
    "fig = plt.figure(figsize=cm2inch(17.6,6),constrained_layout=True)\n",
    "gs = fig.add_gridspec(1, 3, wspace=0.4)\n",
    "\n",
    "axa = fig.add_subplot(gs[0,0])\n",
    "plt.plot(panel_S11['xraw'][::2],np.real(panel_S11['yraw'])[::2],'o',c=cmap(0.1),markerfacecolor='none',label='Re(S$_{11}$)')\n",
    "plt.plot(panel_S11['xraw_th'],np.real(panel_S11['yraw_th']),c=cmap(0.9),lw=1)\n",
    "plt.plot(panel_S11['xraw'][::2],np.imag(panel_S11['yraw'])[::2],'s',c=cmap(0.5),markerfacecolor='none',label='Im(S$_{11}$)')\n",
    "plt.plot(panel_S11['xraw_th'],np.imag(panel_S11['yraw_th']),c=cmap(0.9),lw=1)\n",
    "plt.xlabel('Frequency (GHz)')\n",
    "plt.ylabel('Re(S$_{11}$), Im(S$_{11}$)')\n",
    "plt.xlim(7.432,7.444)\n",
    "\n",
    "\n",
    "axb = fig.add_subplot(gs[0,1])\n",
    "plt.plot(panel_S11['xmeas'][::2],np.real(panel_S11['ymeas'])[::2],'o',c=cmap(0.1),markerfacecolor='none',label='Re(S$_{11}$)')\n",
    "plt.plot(panel_S11['xtheo'],np.real(panel_S11['ytheo']),c=cmap(0.9),lw=1)\n",
    "plt.plot(panel_S11['xmeas'][::2],np.imag(panel_S11['ymeas'])[::2],'s',c=cmap(0.5),markerfacecolor='none',label='Im(S$_{11}$)')\n",
    "plt.plot(panel_S11['xtheo'],np.imag(panel_S11['ytheo']),c=cmap(0.9),lw=1)\n",
    "plt.xlabel('Frequency (GHz)')\n",
    "plt.ylabel('Re(S$_{11}$), Im(S$_{11}$)')\n",
    "plt.xlim(7.432,7.444)\n",
    "#plt.legend(loc='lower right')\n",
    "\n",
    "axc = fig.add_subplot(gs[0,2], projection='polar')\n",
    "plt.plot(np.angle(panel_S11['ymeas']),np.abs(panel_S11['ymeas']),'o',c=cmap(0.1),markerfacecolor='none')\n",
    "plt.plot(np.angle(panel_S11['ytheo']),np.abs(panel_S11['ytheo']),c=cmap(0.9),lw=1)\n",
    "axc.set_rlim(0,1.1)\n",
    "    \n",
    "axa.text(-0.37,0.96, '(a)', fontsize=figtextsize,color='black', weight='bold', transform=axa.transAxes, verticalalignment = 'center', horizontalalignment = 'center')\n",
    "axb.text(-0.33,0.96, '(b)', fontsize=figtextsize,color='black', weight='bold', transform=axb.transAxes, verticalalignment = 'center', horizontalalignment = 'center')\n",
    "axc.text(-0.1,1.05, '(c)', fontsize=figtextsize,color='black', weight='bold', transform=axc.transAxes, verticalalignment = 'center', horizontalalignment = 'center')\n",
    "\n",
    "plt.savefig('SM_reflection_coefficient.pdf',bbox_inches='tight',dpi=dpi)\n",
    "#plt.show()\n",
    "plt.close()"
   ]
  },
  {
   "cell_type": "code",
   "execution_count": null,
   "metadata": {},
   "outputs": [],
   "source": []
  }
 ],
 "metadata": {
  "kernelspec": {
   "display_name": "Python 3",
   "language": "python",
   "name": "python3"
  },
  "language_info": {
   "codemirror_mode": {
    "name": "ipython",
    "version": 3
   },
   "file_extension": ".py",
   "mimetype": "text/x-python",
   "name": "python",
   "nbconvert_exporter": "python",
   "pygments_lexer": "ipython3",
   "version": "3.7.6"
  },
  "toc": {
   "base_numbering": 1,
   "nav_menu": {},
   "number_sections": true,
   "sideBar": true,
   "skip_h1_title": false,
   "title_cell": "Table of Contents",
   "title_sidebar": "Contents",
   "toc_cell": true,
   "toc_position": {},
   "toc_section_display": true,
   "toc_window_display": false
  }
 },
 "nbformat": 4,
 "nbformat_minor": 2
}
