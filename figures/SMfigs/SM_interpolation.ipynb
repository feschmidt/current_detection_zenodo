{
 "cells": [
  {
   "cell_type": "markdown",
   "metadata": {
    "toc": true
   },
   "source": [
    "<h1>Table of Contents<span class=\"tocSkip\"></span></h1>\n",
    "<div class=\"toc\"><ul class=\"toc-item\"></ul></div>"
   ]
  },
  {
   "cell_type": "code",
   "execution_count": 1,
   "metadata": {
    "ExecuteTime": {
     "end_time": "2019-12-16T18:05:53.116858Z",
     "start_time": "2019-12-16T18:05:52.656434Z"
    }
   },
   "outputs": [],
   "source": [
    "import glob\n",
    "import pickle\n",
    "import matplotlib.pyplot as plt\n",
    "from matplotlib import gridspec\n",
    "from mpl_toolkits.axes_grid1.inset_locator import inset_axes\n",
    "import numpy as np\n",
    "import copy\n",
    "import pandas as pd\n",
    "\n",
    "def cm2inch(*tupl):\n",
    "    inch = 2.54\n",
    "    if isinstance(tupl[0], tuple):\n",
    "        return tuple(i/inch for i in tupl[0])\n",
    "    else:\n",
    "        return tuple(i/inch for i in tupl)"
   ]
  },
  {
   "cell_type": "code",
   "execution_count": 2,
   "metadata": {},
   "outputs": [],
   "source": [
    "import seaborn as sns\n",
    "sns.set()\n",
    "sns.set_style('white')\n",
    "sns.set_style('ticks')\n",
    "plt.style.use('../my_rcparams.mplstyle')"
   ]
  },
  {
   "cell_type": "code",
   "execution_count": 3,
   "metadata": {
    "ExecuteTime": {
     "end_time": "2019-12-16T18:05:53.129033Z",
     "start_time": "2019-12-16T18:05:53.123498Z"
    }
   },
   "outputs": [],
   "source": [
    "apath = glob.glob('../../data_final/fig4_panel_a_v2.pkl') #panel_fig4_exp_data\n",
    "panel_a = pickle.load(open(apath[0],'rb'))\n",
    "bpath = glob.glob('../../data_final/panel_fig4_int_data.pkl')\n",
    "panel_b = pickle.load(open(bpath[0],'rb'))"
   ]
  },
  {
   "cell_type": "code",
   "execution_count": 4,
   "metadata": {
    "ExecuteTime": {
     "end_time": "2019-12-16T18:05:53.135661Z",
     "start_time": "2019-12-16T18:05:53.130885Z"
    }
   },
   "outputs": [],
   "source": [
    "dpi = 1000\n",
    "figtextsize=10"
   ]
  },
  {
   "cell_type": "code",
   "execution_count": 5,
   "metadata": {
    "ExecuteTime": {
     "end_time": "2019-12-16T18:05:53.146562Z",
     "start_time": "2019-12-16T18:05:53.137651Z"
    }
   },
   "outputs": [],
   "source": [
    "import matplotlib\n",
    "import matplotlib.ticker as ticker\n",
    "import matplotlib.colors as colors\n",
    "cmap = matplotlib.cm.get_cmap('YlGn_r')"
   ]
  },
  {
   "cell_type": "code",
   "execution_count": 6,
   "metadata": {
    "ExecuteTime": {
     "end_time": "2019-12-16T18:05:56.378575Z",
     "start_time": "2019-12-16T18:05:53.154062Z"
    }
   },
   "outputs": [
    {
     "name": "stderr",
     "output_type": "stream",
     "text": [
      "findfont: Font family ['sans-serif'] not found. Falling back to DejaVu Sans.\n",
      "findfont: Font family ['sans-serif'] not found. Falling back to DejaVu Sans.\n",
      "/opt/conda/lib/python3.7/site-packages/matplotlib/colors.py:1110: RuntimeWarning: invalid value encountered in less_equal\n",
      "  mask |= resdat <= 0\n",
      "findfont: Font family ['sans-serif'] not found. Falling back to DejaVu Sans.\n"
     ]
    }
   ],
   "source": [
    "plt.style.use('../my_rcparams.mplstyle')\n",
    "\n",
    "# parameters for 2D plots:\n",
    "minP,maxP=-150,-99\n",
    "minI,maxI=0,8\n",
    "# min and max values for colorscale\n",
    "# lineparameters\n",
    "vmin = 10\n",
    "vmax = 1000\n",
    "levels = [20,50,1e2,1e3]\n",
    "levc = 'k'\n",
    "levalp=1\n",
    "levst = 'dashed'\n",
    "levlw = .2\n",
    "levft = 8\n",
    "\n",
    "fig=plt.figure(figsize=cm2inch(17.6,6))\n",
    "gs = fig.add_gridspec(1, 2, wspace=0.05)\n",
    "\n",
    "# RAW 2D\n",
    "axa = fig.add_subplot(gs[0,0])\n",
    "pcm1 = plt.pcolormesh(panel_a['x'],panel_a['y'],panel_a['z'],\n",
    "               cmap=cmap,linewidth=0,rasterized=True,norm=colors.LogNorm(vmin=vmin, vmax=vmax))\n",
    "plt.xlabel(panel_a['xlabel'])\n",
    "plt.ylabel(panel_a['ylabel'])\n",
    "plt.xlim(minI,maxI)\n",
    "plt.ylim(minP,maxP)\n",
    "\n",
    "# INTERPOLATION 2D\n",
    "axb = fig.add_subplot(gs[0,1])\n",
    "pcm2 = plt.pcolormesh(panel_b['x'],panel_b['y'],panel_b['z'],\n",
    "               cmap=cmap,linewidth=0,rasterized=True,norm=colors.LogNorm(vmin=vmin, vmax=vmax))\n",
    "plt.xlabel(panel_b['xlabel'])\n",
    "# plt.ylabel(panel_b['ylabel'])\n",
    "plt.gca().set_yticklabels([])\n",
    "plt.xlim(minI,maxI)\n",
    "plt.ylim(minP,maxP)\n",
    "\n",
    "\n",
    "axinsA = inset_axes(axa, width=\"5%\", height=\"30%\", loc=3) \n",
    "cbarA = plt.colorbar(pcm1,cax=axinsA)\n",
    "\n",
    "axinsB = inset_axes(axb, width=\"5%\", height=\"30%\", loc=3) \n",
    "cbarB = plt.colorbar(pcm2,cax=axinsB)\n",
    "\n",
    "for cbar in [cbarA,cbarB]:\n",
    "    cbar.minorticks_off()\n",
    "    cbar.set_ticks([10,100,1000])\n",
    "    cbar.ax.tick_params(pad=1)\n",
    "    cbar.ax.set_yticklabels([10,100,1000],fontsize=7)\n",
    "# cbar.set_label(panel_d['zlabel'],fontsize=7)\n",
    "\n",
    "\n",
    "axa.text(0.04,0.95, '(a)', fontsize=figtextsize, color='black', weight='bold',transform=axa.transAxes, verticalalignment = 'center', horizontalalignment = 'center')\n",
    "axb.text(0.04,0.95, '(b)', fontsize=figtextsize, color='black', weight='bold', transform=axb.transAxes, verticalalignment = 'center', horizontalalignment = 'center')\n",
    "\n",
    "plt.savefig('SM_interpolation.pdf',bbox_inches='tight',dpi=dpi)\n",
    "plt.close()"
   ]
  },
  {
   "cell_type": "code",
   "execution_count": null,
   "metadata": {},
   "outputs": [],
   "source": []
  }
 ],
 "metadata": {
  "kernelspec": {
   "display_name": "Python 3",
   "language": "python",
   "name": "python3"
  },
  "language_info": {
   "codemirror_mode": {
    "name": "ipython",
    "version": 3
   },
   "file_extension": ".py",
   "mimetype": "text/x-python",
   "name": "python",
   "nbconvert_exporter": "python",
   "pygments_lexer": "ipython3",
   "version": "3.7.6"
  },
  "toc": {
   "base_numbering": 1,
   "nav_menu": {},
   "number_sections": true,
   "sideBar": true,
   "skip_h1_title": false,
   "title_cell": "Table of Contents",
   "title_sidebar": "Contents",
   "toc_cell": true,
   "toc_position": {},
   "toc_section_display": true,
   "toc_window_display": false
  }
 },
 "nbformat": 4,
 "nbformat_minor": 2
}
