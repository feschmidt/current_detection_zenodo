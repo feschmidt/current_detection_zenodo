{
 "cells": [
  {
   "cell_type": "markdown",
   "metadata": {
    "toc": true
   },
   "source": [
    "<h1>Table of Contents<span class=\"tocSkip\"></span></h1>\n",
    "<div class=\"toc\"><ul class=\"toc-item\"></ul></div>"
   ]
  },
  {
   "cell_type": "code",
   "execution_count": 1,
   "metadata": {
    "ExecuteTime": {
     "end_time": "2019-12-17T10:26:55.069720Z",
     "start_time": "2019-12-17T10:26:54.632620Z"
    }
   },
   "outputs": [],
   "source": [
    "import glob\n",
    "import pickle\n",
    "import matplotlib.pyplot as plt\n",
    "from matplotlib import gridspec\n",
    "from mpl_toolkits.axes_grid1.inset_locator import inset_axes\n",
    "import numpy as np\n",
    "import copy\n",
    "import pandas as pd\n",
    "\n",
    "def cm2inch(*tupl):\n",
    "    inch = 2.54\n",
    "    if isinstance(tupl[0], tuple):\n",
    "        return tuple(i/inch for i in tupl[0])\n",
    "    else:\n",
    "        return tuple(i/inch for i in tupl)"
   ]
  },
  {
   "cell_type": "code",
   "execution_count": 2,
   "metadata": {},
   "outputs": [],
   "source": [
    "import seaborn as sns\n",
    "sns.set()\n",
    "sns.set_style('white')\n",
    "sns.set_style('ticks')\n",
    "plt.style.use('../my_rcparams.mplstyle')"
   ]
  },
  {
   "cell_type": "code",
   "execution_count": 3,
   "metadata": {
    "ExecuteTime": {
     "end_time": "2019-12-17T10:26:55.526290Z",
     "start_time": "2019-12-17T10:26:55.072216Z"
    }
   },
   "outputs": [
    {
     "data": {
      "text/plain": [
       "dict_keys(['x1', 'y1', 'label', 'xtheo', 'ytheo', 'xlabel', 'ylabel', 'params'])"
      ]
     },
     "execution_count": 3,
     "metadata": {},
     "output_type": "execute_result"
    }
   ],
   "source": [
    "# experimental tuning\n",
    "tuning_meas = pickle.load(open('../../data_final/fig2_panel_f0fit.pkl','rb'))\n",
    "tuning_meas.keys()"
   ]
  },
  {
   "cell_type": "code",
   "execution_count": 4,
   "metadata": {
    "ExecuteTime": {
     "end_time": "2019-12-17T10:26:55.535423Z",
     "start_time": "2019-12-17T10:26:55.528793Z"
    }
   },
   "outputs": [
    {
     "data": {
      "text/plain": [
       "dict_keys(['xopt', 'yopt'])"
      ]
     },
     "execution_count": 4,
     "metadata": {},
     "output_type": "execute_result"
    }
   ],
   "source": [
    "# JJCPW tuning\n",
    "tuning_JJCPW = pickle.load(open('../../data_final/JJarrayCPW_analytical_1um_f0vI.pkl','rb'))\n",
    "tuning_JJCPW.keys()"
   ]
  },
  {
   "cell_type": "code",
   "execution_count": 5,
   "metadata": {
    "ExecuteTime": {
     "end_time": "2019-12-17T10:26:55.565050Z",
     "start_time": "2019-12-17T10:26:55.538084Z"
    }
   },
   "outputs": [],
   "source": [
    "# CPW_1Dpath = glob.glob('../../../../../projects/Felix/DC_bias_aluminum_constrictions/circuit_analysis/Figure5/JJ_CPW_1D.pkl')\n",
    "# CPW_1Dpath = glob.glob('../../../../../projects/Felix/DC_bias_aluminum_constrictions/circuit_analysis/Figure5/CPW_1D.pkl')\n",
    "# cpw_1d_base = pickle.load(open(CPW_1Dpath[0],'rb'))\n",
    "# CPW_1Dpath = glob.glob('../../../../../projects/Felix/DC_bias_aluminum_constrictions/circuit_analysis/Figure5/CPW_1D_kex4.pkl')\n",
    "# CPW_1Dpath = glob.glob('../../../../../projects/Felix/DC_bias_aluminum_constrictions/circuit_analysis/Duffing_loop2/lineplots-sensitivity-data/JJ_CPW_1D_000.9_908.pkl')\n",
    "CPW_1Dpath = glob.glob('../../data_final/JJ_CPW_1D_001.0_845.pkl')\n",
    "cpw_1d = pickle.load(open(CPW_1Dpath[0],'rb'))\n",
    "# RLC_1Dpath = glob.glob('../../../../../projects/Felix/DC_bias_aluminum_constrictions/circuit_analysis/Figure5/RLC_1D.pkl')\n",
    "# rlc_1d = pickle.load(open(RLC_1Dpath[0],'rb'))\n",
    "CPWsketchpath = glob.glob('temp/fig5_CPW_cmap.svg.png')\n",
    "circuit = plt.imread(CPWsketchpath[0])\n",
    "# CPWoldsketchpath = glob.glob('../../../../../projects/Felix/DC_bias_aluminum_constrictions/current_detection/figures/fig5_CPWold_cmap.svg.png')\n",
    "# circuitold = plt.imread(CPWoldsketchpath[0])"
   ]
  },
  {
   "cell_type": "code",
   "execution_count": 6,
   "metadata": {
    "ExecuteTime": {
     "end_time": "2019-12-17T10:26:55.579177Z",
     "start_time": "2019-12-17T10:26:55.567888Z"
    }
   },
   "outputs": [],
   "source": [
    "# minimum experimental line\n",
    "panelcpath = glob.glob('../../data_final/fig4_panel_c_v2.pkl')\n",
    "panel_c = pickle.load(open(panelcpath[0],'rb'))"
   ]
  },
  {
   "cell_type": "code",
   "execution_count": 7,
   "metadata": {
    "ExecuteTime": {
     "end_time": "2019-12-17T10:26:55.585904Z",
     "start_time": "2019-12-17T10:26:55.581218Z"
    }
   },
   "outputs": [],
   "source": [
    "dpi = 1000\n",
    "figtextsize=10"
   ]
  },
  {
   "cell_type": "code",
   "execution_count": 8,
   "metadata": {
    "ExecuteTime": {
     "end_time": "2019-12-17T10:26:55.596526Z",
     "start_time": "2019-12-17T10:26:55.589263Z"
    }
   },
   "outputs": [],
   "source": [
    "import matplotlib\n",
    "cmap = matplotlib.cm.get_cmap('YlGn_r')"
   ]
  },
  {
   "cell_type": "code",
   "execution_count": 9,
   "metadata": {
    "ExecuteTime": {
     "end_time": "2019-12-17T10:26:55.604924Z",
     "start_time": "2019-12-17T10:26:55.598789Z"
    }
   },
   "outputs": [],
   "source": [
    "import matplotlib.ticker as ticker"
   ]
  },
  {
   "cell_type": "code",
   "execution_count": 10,
   "metadata": {
    "ExecuteTime": {
     "end_time": "2019-12-17T10:26:57.141805Z",
     "start_time": "2019-12-17T10:26:55.612723Z"
    }
   },
   "outputs": [
    {
     "name": "stderr",
     "output_type": "stream",
     "text": [
      "findfont: Font family ['sans-serif'] not found. Falling back to DejaVu Sans.\n",
      "findfont: Font family ['sans-serif'] not found. Falling back to DejaVu Sans.\n"
     ]
    }
   ],
   "source": [
    "plt.style.use('../my_rcparams.mplstyle')\n",
    "\n",
    "fig = plt.figure(figsize=cm2inch(8.6,8.6))#,constrained_layout=True)\n",
    "gs = gridspec.GridSpec(2, 2, height_ratios=[1,2],wspace=0.5,hspace=0.2)\n",
    "\n",
    "axa = fig.add_subplot(gs[0,:])\n",
    "im = axa.imshow(circuit,interpolation='none')\n",
    "\n",
    "axb = fig.add_subplot(gs[1,0])\n",
    "plt.plot(tuning_meas['xtheo'],np.gradient(tuning_meas['ytheo'],tuning_meas['xtheo']),c='g',ls=':')\n",
    "plt.plot(tuning_JJCPW['xopt'],np.gradient(tuning_JJCPW['yopt'],tuning_JJCPW['xopt']),c='k')\n",
    "plt.xticks([0,2.5,5,7.5])\n",
    "plt.xlabel('Bias current (µA)')\n",
    "plt.ylabel('Responsivity (GHz/µA)')\n",
    "\n",
    "axc = fig.add_subplot(gs[1,1])\n",
    "plt.plot(cpw_1d['x2'],cpw_1d['y2'],label='CPW',c='k',ls='--')\n",
    "plt.plot(cpw_1d['x'],cpw_1d['y'],label='CPW',c='k')\n",
    "# plt.plot(cpw_1d_base['x'],cpw_1d_base['y'],label='CPWbase',c='C1')\n",
    "# plt.plot(cpw_1d['x'],cpw_1d['y'],label='CPW')#,c='k')\n",
    "# plt.plot(rlc_1d['x'],rlc_1d['y'],label='RLC')#,c='k')\n",
    "# plt.xlabel(rlc_1d['xlabel'])\n",
    "plt.xlabel('Power at sample (dBm)')\n",
    "# plt.ylabel(r'Sensitivity (pA/$\\sqrt{\\mathrm{\\mathsf{Hz}}}$)')\n",
    "plt.ylabel(r'Current sensitivity (pA/Hz$^{-1/2}$)')\n",
    "plt.yscale('log')\n",
    "xlims = plt.gca().get_xlim()\n",
    "plt.axhline(panel_c['ymin'],c='g',ls=':')\n",
    "# plt.fill_between(xlims,panel_c['ymin'],1e3,facecolor=cmap(0.1),alpha=0.9)\n",
    "# plt.fill_between(xlims,panel_c['ymin'],1e3,hatch=\"x\",edgecolor=cmap(0.1),facecolor='w')\n",
    "axc.yaxis.set_major_formatter(ticker.FuncFormatter(lambda y,pos: ('{{:.{:1d}f}}'.format(int(np.maximum(-np.log10(y),0)))).format(y)))\n",
    "\n",
    "# plt.ylim(1e-2,1e2)\n",
    "# plt.xlim(-150,-100)\n",
    "# plt.xlim(min(cpw_1d['x']),max(cpw_1d['x']))\n",
    "\n",
    "axa.axis('off')\n",
    "axa.axes.xaxis.set_ticklabels([])\n",
    "axa.axes.yaxis.set_ticklabels([])\n",
    "    \n",
    "axa.text(-0.23,1.5, '(a)', fontsize=figtextsize, color='black', weight='bold',transform=axb.transAxes, verticalalignment = 'center', horizontalalignment = 'center')\n",
    "axb.text(-0.23,1, '(b)', fontsize=figtextsize, color='black', weight='bold', transform=axb.transAxes, verticalalignment = 'center', horizontalalignment = 'center')\n",
    "axc.text(-0.3,1, '(c)', fontsize=figtextsize, color='black', weight='bold', transform=axc.transAxes, verticalalignment = 'center', horizontalalignment = 'center')\n",
    "\n",
    "plt.savefig('Figure5.pdf',bbox_inches='tight',dpi=dpi)\n",
    "# plt.show()\n",
    "plt.close()"
   ]
  },
  {
   "cell_type": "code",
   "execution_count": 11,
   "metadata": {
    "ExecuteTime": {
     "end_time": "2019-12-17T10:26:57.151622Z",
     "start_time": "2019-12-17T10:26:57.143926Z"
    }
   },
   "outputs": [
    {
     "data": {
      "text/plain": [
       "8.3673469388"
      ]
     },
     "execution_count": 11,
     "metadata": {},
     "output_type": "execute_result"
    }
   ],
   "source": [
    "tuning_meas['xtheo'][-1]"
   ]
  },
  {
   "cell_type": "code",
   "execution_count": 12,
   "metadata": {
    "ExecuteTime": {
     "end_time": "2019-12-17T10:26:57.171159Z",
     "start_time": "2019-12-17T10:26:57.166213Z"
    }
   },
   "outputs": [
    {
     "data": {
      "text/plain": [
       "9.0"
      ]
     },
     "execution_count": 12,
     "metadata": {},
     "output_type": "execute_result"
    }
   ],
   "source": [
    "tuning_JJCPW['xopt'][-1]"
   ]
  },
  {
   "cell_type": "code",
   "execution_count": null,
   "metadata": {},
   "outputs": [],
   "source": []
  }
 ],
 "metadata": {
  "kernelspec": {
   "display_name": "Python 3",
   "language": "python",
   "name": "python3"
  },
  "language_info": {
   "codemirror_mode": {
    "name": "ipython",
    "version": 3
   },
   "file_extension": ".py",
   "mimetype": "text/x-python",
   "name": "python",
   "nbconvert_exporter": "python",
   "pygments_lexer": "ipython3",
   "version": "3.7.6"
  },
  "toc": {
   "base_numbering": 1,
   "nav_menu": {},
   "number_sections": true,
   "sideBar": true,
   "skip_h1_title": false,
   "title_cell": "Table of Contents",
   "title_sidebar": "Contents",
   "toc_cell": true,
   "toc_position": {},
   "toc_section_display": true,
   "toc_window_display": false
  }
 },
 "nbformat": 4,
 "nbformat_minor": 2
}
