{
 "cells": [
  {
   "cell_type": "markdown",
   "metadata": {
    "toc": true
   },
   "source": [
    "<h1>Table of Contents<span class=\"tocSkip\"></span></h1>\n",
    "<div class=\"toc\"><ul class=\"toc-item\"><li><span><a href=\"#testing-the-sums\" data-toc-modified-id=\"testing-the-sums-1\"><span class=\"toc-item-num\">1&nbsp;&nbsp;</span>testing the sums</a></span></li><li><span><a href=\"#anharmonicity-values\" data-toc-modified-id=\"anharmonicity-values-2\"><span class=\"toc-item-num\">2&nbsp;&nbsp;</span>anharmonicity values</a></span></li></ul></div>"
   ]
  },
  {
   "cell_type": "code",
   "execution_count": 1,
   "metadata": {
    "ExecuteTime": {
     "end_time": "2019-12-13T11:14:59.431617Z",
     "start_time": "2019-12-13T11:14:59.143426Z"
    }
   },
   "outputs": [],
   "source": [
    "import numpy as np\n",
    "import matplotlib.pyplot as plt\n",
    "from numpy import pi, cos, sqrt"
   ]
  },
  {
   "cell_type": "markdown",
   "metadata": {
    "ExecuteTime": {
     "end_time": "2019-12-13T10:58:25.457473Z",
     "start_time": "2019-12-13T10:58:25.454102Z"
    }
   },
   "source": [
    "# testing the sums"
   ]
  },
  {
   "cell_type": "code",
   "execution_count": 2,
   "metadata": {
    "ExecuteTime": {
     "end_time": "2019-12-13T11:14:59.437228Z",
     "start_time": "2019-12-13T11:14:59.433782Z"
    }
   },
   "outputs": [],
   "source": [
    "def f1(N):\n",
    "    return sum([cos(pi*n/N)**4 for n in range(N)])\n",
    "\n",
    "def f2(N):\n",
    "    return sum([cos(pi*(n-0.5)/N)**4 for n in range(N)])"
   ]
  },
  {
   "cell_type": "code",
   "execution_count": 3,
   "metadata": {
    "ExecuteTime": {
     "end_time": "2019-12-13T11:14:59.490681Z",
     "start_time": "2019-12-13T11:14:59.439175Z"
    }
   },
   "outputs": [],
   "source": [
    "myN = np.arange(2,100)\n",
    "myf1 = np.array([f1(N) for N in myN])\n",
    "myf2 = np.array([f2(N) for N in myN])"
   ]
  },
  {
   "cell_type": "code",
   "execution_count": 4,
   "metadata": {
    "ExecuteTime": {
     "end_time": "2019-12-13T11:15:00.122284Z",
     "start_time": "2019-12-13T11:14:59.494524Z"
    }
   },
   "outputs": [
    {
     "data": {
      "image/png": "[encoded data removed]",
      "text/plain": [
       "<Figure size 432x288 with 1 Axes>"
      ]
     },
     "metadata": {
      "needs_background": "light"
     },
     "output_type": "display_data"
    }
   ],
   "source": [
    "plt.plot(myN,abs(myf1-3*myN/8))\n",
    "plt.plot(myN,abs(myf2-3*myN/8))\n",
    "plt.xscale('log')\n",
    "plt.yscale('log')"
   ]
  },
  {
   "cell_type": "markdown",
   "metadata": {},
   "source": [
    "# anharmonicity values"
   ]
  },
  {
   "cell_type": "code",
   "execution_count": 6,
   "metadata": {
    "ExecuteTime": {
     "end_time": "2019-12-13T11:15:38.309724Z",
     "start_time": "2019-12-13T11:15:38.248701Z"
    }
   },
   "outputs": [
    {
     "name": "stdout",
     "output_type": "stream",
     "text": [
      "1.29e+08\n",
      "8.50e+00\n",
      "8.50e+00\n"
     ]
    }
   ],
   "source": [
    "import numpy as np\n",
    "from scipy.constants import hbar, e, h\n",
    "\n",
    "# parameters\n",
    "N = 1000\n",
    "Lj = 1e-9\n",
    "L0 = 0.5e-9\n",
    "Cj = 0e-15\n",
    "C0 = 10e-15\n",
    "\n",
    "# Analytical formulas\n",
    "def wm(m,N,Lj,L0,Cj,C0):\n",
    "    c = np.cos(np.pi*m/N)\n",
    "    return 1/np.sqrt((Lj+L0)*(Cj+C0/(2-2*c)))\n",
    "def zpf_1(m,N,Lj,L0,Cj,C0):\n",
    "    c = np.cos(np.pi*m/N)\n",
    "    imY = N*(C0-2*Cj*(c-1))/(1-c**2)\n",
    "    return np.sqrt(hbar/wm(m,N,Lj,L0,Cj,C0)/imY)\n",
    "def ev(m,n,N,Lj,L0,Cj,C0):\n",
    "    return np.sqrt(2/N)*np.sin(np.pi*m*n/N)\n",
    "def zpf_n(m,n,N,Lj,L0,Cj,C0):\n",
    "    return zpf_1(m,N,Lj,L0,Cj,C0)*(ev(m,n,N,Lj,L0,Cj,C0)-ev(m,n-1,N,Lj,L0,Cj,C0))/ev(m,1,N,Lj,L0,Cj,C0)\n",
    "def anh(m,N,Lj,L0,Cj,C0):\n",
    "    phi0 = hbar/2/e\n",
    "    return (Lj/(Lj+L0))**4/2/phi0**2/Lj*sum([np.absolute(zpf_n(m,n,N,Lj,L0,Cj,C0))**4 for n in range(1,N+1)])\n",
    "\n",
    "# full derivation\n",
    "w = wm(1,N,Lj,L0,Cj,C0) # frequency of mode 1 (the fundamental mode)\n",
    "A_exact = anh(1,N,Lj,L0,Cj,C0)/h # Anharmonicity in Hertz\n",
    "\n",
    "# in the limit N>>1\n",
    "A_large_N = 3/4*np.pi**2*e**2*(Lj/(Lj+L0))**3/N**3/C0/h\n",
    "\n",
    "print(\"%.2e\"%(w/2/np.pi))\n",
    "print(\"%.2e\"%(A_exact))\n",
    "print(\"%.2e\"%(A_large_N))"
   ]
  },
  {
   "cell_type": "code",
   "execution_count": null,
   "metadata": {},
   "outputs": [],
   "source": []
  }
 ],
 "metadata": {
  "kernelspec": {
   "display_name": "Python 3",
   "language": "python",
   "name": "python3"
  },
  "language_info": {
   "codemirror_mode": {
    "name": "ipython",
    "version": 3
   },
   "file_extension": ".py",
   "mimetype": "text/x-python",
   "name": "python",
   "nbconvert_exporter": "python",
   "pygments_lexer": "ipython3",
   "version": "3.6.9"
  },
  "toc": {
   "base_numbering": 1,
   "nav_menu": {},
   "number_sections": true,
   "sideBar": true,
   "skip_h1_title": false,
   "title_cell": "Table of Contents",
   "title_sidebar": "Contents",
   "toc_cell": true,
   "toc_position": {},
   "toc_section_display": true,
   "toc_window_display": true
  }
 },
 "nbformat": 4,
 "nbformat_minor": 2
}
